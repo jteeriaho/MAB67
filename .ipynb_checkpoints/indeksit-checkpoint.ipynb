{
 "cells": [
  {
   "cell_type": "markdown",
   "id": "64e7986e",
   "metadata": {},
   "source": [
    "# Indeksit ja rahan arvo"
   ]
  },
  {
   "cell_type": "markdown",
   "id": "b7cbeeff",
   "metadata": {},
   "source": [
    "**Indeksi on luku, jolla pyritään ilmaisemaan tutkittavan asian muutosta.**      \n",
    "\n",
    "Indeksisarjalla voidaan tutkia esimerkiksi tuotteen hinnan kehitystä.\n",
    "\n",
    "Indeksisarja laaditaan niin, että valitaan perusajankohta, johon muiden ajankohtien arvoa verrataan. \n",
    ">**Perusajankohdan arvoa eli ns. perusarvoa merkitään luvulla 100.** \n",
    "\n",
    "Indeksisarjan **muut arvot saadaan jakamalla kukin arvo perusajankohdan arvolla ja kerrotaan lopuksi luvulla 100.**     \n",
    "\n",
    "Saadut luvut ovat **indeksiarvoja eli pisteitä**, jotka yleensä ilmoitetaan yhden desimaalin tarkkuudella, ilman yksikköä."
   ]
  },
  {
   "cell_type": "markdown",
   "id": "01f76da9",
   "metadata": {},
   "source": [
    "## Indeksin muodostaminen"
   ]
  },
  {
   "cell_type": "markdown",
   "id": "f190a4a3",
   "metadata": {},
   "source": [
    "Esim. Muodostetaan indeksi kirjolohen kilohinnasta ao. taulukon perusteella.       \n",
    "\n",
    "| Vuosi | Kirjolohen hinta €/kg |\n",
    "|-------|-----------------------|\n",
    "| 2012  | 8.43                  |\n",
    "| 2013  | 9.04                  |\n",
    "| 2014  | 9.56                  |\n",
    "| 2015  | 8.50                  |\n",
    "| 2016  | 9.70                  |\n",
    "| 2017  | 12.22                 |\n",
    "| 2018  | 11.16                 |"
   ]
  },
  {
   "cell_type": "markdown",
   "id": "e10f13c3",
   "metadata": {},
   "source": [
    "Indeksi voitaisiin nimetä seuraavasti:  **kirjolohen hintaindeksi 100 = 2012\"** (perusvuodeksi valittu 2012)    \n",
    "\n",
    "Lasketaan muiden vuosien indeksit jakamalla niiden hinnat perusvuoden hinnalla ja kertomalla osamäärä luvulla 100.      \n",
    "\n",
    "$I_n = \\frac {H_n}{H_0}\\cdot 100 $ , missä $H_n$ ja $H_0$ ovat vuoden n ja perusvuoden 2012 hinnat. Esim. vuoden 2014 indeksiluku on 9.56/8.43*100 = 113.4.\n",
    "\n",
    "Saadaan seuraava indeksitaulukko.   \n",
    "\n",
    "| Vuosi | Kirjolohen hinta €/kg |\n",
    "|-------|-----------------------|\n",
    "| 2012  | 100.0                 |\n",
    "| 2013  | 107.2                 |\n",
    "| 2014  | 113.4                 |\n",
    "| 2015  | 100.8                 |\n",
    "| 2016  | 115.1                 |\n",
    "| 2017  | 145.0                 |\n",
    "| 2018  | 132.4                 |     \n",
    "\n",
    "Indeksi voidaan esittää myös graafisesti:    \n",
    "![kala](images/lohi.PNG)\n",
    "\n"
   ]
  },
  {
   "cell_type": "markdown",
   "id": "cdf6cec8",
   "metadata": {},
   "source": [
    "```{admonition} Laske indeksitaulukosta, kuinka monta prosentti kirjolohen hinta nousi välillä 2014 - 2017 \n",
    ":class: dropdown\n",
    "Hintasuhde $\\frac {145}{113.5} = 1.279\\%$ , mikä tarkoittaa 27.9 prosentin hinnannousua   \n",
    "```"
   ]
  },
  {
   "cell_type": "markdown",
   "id": "a3a94a53",
   "metadata": {},
   "source": [
    "```{admonition} Tunnettuja indeksejä\n",
    ":class: tip\n",
    "Tärkeitä indeksejä ovat mm. elinkustannusindeksi (EKI), joka mittaa inflaatiota ja ansiotasoindeksi, joka mittaa palkansaajien ansioiden kehitystä.        \n",
    "Osakesijoittajat seuraavat pörssikurssien kehitystä mittaavia indeksejä kuten Nasdaq ja Dow Jones\n",
    " \n",
    "```"
   ]
  },
  {
   "cell_type": "markdown",
   "id": "e1bcfa25",
   "metadata": {},
   "source": [
    "### Elinkustannusindeksi"
   ]
  },
  {
   "cell_type": "markdown",
   "id": "df697177",
   "metadata": {},
   "source": [
    "Monet etuudet, kuten toimeentulotuki ja kansaneläke, on sidottu elinkustannuksia mittaavaan elinkustannusindeksiin.  Alla taulukko EKI:stä, jossa perusvuotena on 1951.  Ao. taulukossa on indeksin arvo vuosina 2010 - 2018.\n",
    "\n",
    "![elink](images/EKI.PNG)"
   ]
  },
  {
   "cell_type": "markdown",
   "id": "43ef5997",
   "metadata": {},
   "source": [
    "```{admonition} Paljonko elinkustannukset nousivat vuoden 2011 tammikuusta vuoden 2016 tammikuuhun? \n",
    ":class: dropdown\n",
    "Indeksien suhde on $\\frac {1898}{1783} = 1.064$ , mikä tarkoittaa 6.4 prosentin nousua elinkustannuksissa.   \n",
    "\n",
    "```"
   ]
  },
  {
   "cell_type": "markdown",
   "id": "575fce58",
   "metadata": {},
   "source": [
    "### Rahan arvo "
   ]
  },
  {
   "cell_type": "markdown",
   "id": "76634ad8",
   "metadata": {},
   "source": [
    "Rahan arvolla tarkoitetaan sitä, kuinka paljon samalla nimellisellä rahamäärällä saa tuotteita eri ajankohtina.     \n",
    "Esim. jos kirjolohen hinta nousee 15 prosenttia tietyllä rahamäärällä x euroa saatava kilomäärä laskee määrään joka saadaan jakamalla alkuperäinen kilomäärä luvulla 1.15.     \n",
    "\n",
    "Yleisesti. Kun elinkustannukset nousevat p  prosenttia , eli korkokerroin on 1+p/100, niin rahan arvo alenee kertoimen käänteisluvulla      \n",
    "\n",
    "Jos a on alkuperäinen rahan arvo ja p on elinkustannusten muutosprosentti, niin      \n",
    "\n",
    ">**muuttunut rahan arvo on $\\frac {a}{1 +\\frac{p}{100}}$** "
   ]
  },
  {
   "cell_type": "markdown",
   "id": "d25d84b7",
   "metadata": {},
   "source": [
    "```{admonition} Miten rahan arvo muuttuu, kun inflaatio on 7 prosenttia?\n",
    ":class: dropdown\n",
    "Korkokerroin elinkustannuksissa on 1.07, joten muuttunut rahan arvo on \n",
    "$\\frac {a}{1.07} = 0.935 a$           \n",
    "Rahan arvo on 93.5 prosenttia edellisen vuoden arvosta, eli se on laskenut **6.5 prosenttia**\n",
    "```"
   ]
  },
  {
   "cell_type": "markdown",
   "id": "f1af4eaa",
   "metadata": {},
   "source": [
    "### Ansiotasoindeksi "
   ]
  },
  {
   "cell_type": "markdown",
   "id": "3ffdd9f4",
   "metadata": {},
   "source": [
    "**Ansiotasoindeksi mittaa palkansaajien nimellisansioiden kehitystä.**  "
   ]
  },
  {
   "cell_type": "markdown",
   "id": "33a8867f",
   "metadata": {},
   "source": [
    "```{admonition} Ansiotasoindeksissä 100 = 1961 vuoden 2011 indeksi on 2820 pistettä ja vuoden 2016 indeksi 3115 pistettä. Kuinka monta prosenttia ansiot nousivat ko. aikavälillä. \n",
    ":class: dropdown\n",
    "Indeksilukujen suhde on $\\frac {3115}{2820}= 1.105\\%$ , joten ansiot nousivat 10.5 prosenttia.\n",
    "\n",
    "Vastaus:  10.5%\n",
    "```"
   ]
  },
  {
   "cell_type": "markdown",
   "id": "ebca189b",
   "metadata": {},
   "source": [
    "### Reaaliansiot ja palkansaajien ostovoima"
   ]
  },
  {
   "cell_type": "markdown",
   "id": "9eec4c2f",
   "metadata": {},
   "source": [
    "Reaaliansioita mittaa se, kuinka paljon käytettävissä olevalla rahalla saa tuotteita. \n",
    "\n",
    "**Reaaliansioita kuvaa käytettävissä olevan rahamäärän ja hintojen suhde.**\n",
    "\n",
    "**Muodollisesti voitaisiin merkitä $RA = \\frac{A}{H}$   , missä A = ansiotulot, H = Hinnat**"
   ]
  },
  {
   "cell_type": "markdown",
   "id": "41b56873",
   "metadata": {},
   "source": [
    "```{admonition} Kuinka paljon muuttuivat reaaliansiot 2011- 2016, jos hinnat nousivat 6.4% ja palkat 10.5% ?\n",
    ":class: dropdown\n",
    "Uusi reaaliansio (2016) on $\\frac {1.105A}{1.064H}= \\frac {1.105}{1.064}\\cdot\\frac {A}{H} = 1.039\\frac {A}{H}$    \n",
    "\n",
    "Reaaliansiot nousivat siis 1.039\n",
    "```"
   ]
  },
  {
   "cell_type": "markdown",
   "id": "626740a6",
   "metadata": {},
   "source": [
    "**Ts. Reaaliansioiden korkokerroin = ansiotason korkokerroin / elinkustannusten korkokerroin**"
   ]
  },
  {
   "cell_type": "markdown",
   "id": "ebfa3043",
   "metadata": {},
   "source": [
    "### Työeläkkeiden korotus lasketaan EKI:stä ja palkkaindeksistä painotettuna keskiarvona "
   ]
  },
  {
   "cell_type": "markdown",
   "id": "ed391b1f",
   "metadata": {},
   "source": [
    "Työeläkkeitä tarkistetaan joka vuoden alussa prosentilla, joka on elinkustannusten nousuprosentin ja palkkojen nousuprosentin painotettu keskiarvo painokertoimille 80% ja 20%  \n",
    "\n",
    "**Esim. Kun palkat nousevat 10.5% ja elinkustannukset 6.4% jonakin aikavälinä, niin**  \n",
    "\n",
    "**eläkkeiden nousuprosentti on $0.8*6.4\\% + 0.2*10.5\\% = 7.2 \\%$**"
   ]
  }
 ],
 "metadata": {
  "jupytext": {
   "cell_metadata_filter": "-all",
   "notebook_metadata_filter": "-all",
   "text_representation": {
    "extension": ".md",
    "format_name": "markdown"
   }
  },
  "kernelspec": {
   "display_name": "Python 3 (ipykernel)",
   "language": "python",
   "name": "python3"
  },
  "language_info": {
   "codemirror_mode": {
    "name": "ipython",
    "version": 3
   },
   "file_extension": ".py",
   "mimetype": "text/x-python",
   "name": "python",
   "nbconvert_exporter": "python",
   "pygments_lexer": "ipython3",
   "version": "3.9.13"
  }
 },
 "nbformat": 4,
 "nbformat_minor": 5
}
