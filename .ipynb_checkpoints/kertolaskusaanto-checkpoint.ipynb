{
 "cells": [
  {
   "cell_type": "markdown",
   "id": "58d5a3e4",
   "metadata": {},
   "source": [
    "# Kertolaskusääntö "
   ]
  },
  {
   "cell_type": "markdown",
   "id": "42ccff8a",
   "metadata": {},
   "source": [
    "## Otannalla saadun tuloksen virhemarginaali"
   ]
  },
  {
   "cell_type": "markdown",
   "id": "93243061",
   "metadata": {},
   "source": [
    "### Otantavirheet"
   ]
  }
 ],
 "metadata": {
  "jupytext": {
   "cell_metadata_filter": "-all",
   "notebook_metadata_filter": "-all",
   "text_representation": {
    "extension": ".md",
    "format_name": "markdown"
   }
  },
  "kernelspec": {
   "display_name": "Python 3 (ipykernel)",
   "language": "python",
   "name": "python3"
  },
  "language_info": {
   "codemirror_mode": {
    "name": "ipython",
    "version": 3
   },
   "file_extension": ".py",
   "mimetype": "text/x-python",
   "name": "python",
   "nbconvert_exporter": "python",
   "pygments_lexer": "ipython3",
   "version": "3.9.13"
  }
 },
 "nbformat": 4,
 "nbformat_minor": 5
}
