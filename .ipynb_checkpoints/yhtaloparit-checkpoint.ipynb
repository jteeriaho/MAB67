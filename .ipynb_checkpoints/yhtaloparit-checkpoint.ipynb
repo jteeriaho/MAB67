{
 "cells": [
  {
   "cell_type": "markdown",
   "id": "64e7986e",
   "metadata": {},
   "source": [
    "# Yhtälöparit"
   ]
  },
  {
   "cell_type": "markdown",
   "id": "01f76da9",
   "metadata": {},
   "source": [
    "## Lineaariset yhtälöparit  "
   ]
  },
  {
   "cell_type": "markdown",
   "id": "3564c143",
   "metadata": {},
   "source": [
    "```{admonition} Lineaarisen yhtälöparin perusmuoto    \n",
    ":class: tip\n",
    "$\\begin{matrix}\n",
    "a_1 x + a_2 y = b_1\\\\\n",
    "a_3 x + a_4 y = b_2\n",
    "\\end{matrix}$\n",
    "\n",
    "```\n",
    "Muuttujat x ja y ovat vasemmalla puolen omissa sarakkeissaan, vakiot oikealla puolen yhtälöitä.\n"
   ]
  },
  {
   "cell_type": "markdown",
   "id": "a3a94a53",
   "metadata": {},
   "source": [
    "Perinteisiä ratkaisutapoja ovat  **eliminoimismenetelmä** ja **sijoitusmenetelmä**"
   ]
  },
  {
   "cell_type": "markdown",
   "id": "af513fd6",
   "metadata": {},
   "source": [
    "```{admonition} Eliminoimismenetelmä    \n",
    ":class: tip\n",
    "Kerrotaan jompikumpi tai molemmat yhtälöistä sopivilla vakioilla siten, että   \n",
    "jommankumman muuttujan kertoimet yhtälöissä ovat vastaluvut.   \n",
    "Lasketaan yhtälöt yhteen, jolloin saadaan 1. asteen yhtälö, josta toinen muuttujista voidaan ratkaista \n",
    "Ratkaistu muuttuja sijoitetaan johonkin alkuperäisistä yhtälöistä ja ratkaistan toinen muuttuja.\n",
    "```"
   ]
  },
  {
   "cell_type": "markdown",
   "id": "6d7802d0",
   "metadata": {},
   "source": [
    "````{admonition} Esim. Ratkaise eliminoimismenetelmällä yhtälöpari    \n",
    ":class: note\n",
    "$\\begin{matrix}\n",
    "2x-5y=-4\\\\\n",
    "3x+2y=13\n",
    "\\end{matrix}$  \n",
    "```{admonition} Ratkaisu\n",
    ":class: dropdown\n",
    "Kerrotaan 1. yhtälö luvulla 2 ja 2. yhtälö luvulla 5 , jolloin saadaan     \n",
    "$\\begin{matrix}\n",
    "4x-10y=-8 \\\\\n",
    "15x+10y=65\n",
    "\\end{matrix}$    \n",
    "\n",
    "Lasketaan yhtälöt puolittain yhteen. Saadaan 19 x = 57, josta x = 57/19 = 3    \n",
    "Sijoitetaan tämä 1. yhtälöön, jolloin saadaan 2*3-5y=-4 eli 10 = 5y , josta y = 2   \n",
    "\n",
    "Vastaus:  **x = 3 ja y = 2**\n",
    "\n",
    "```\n",
    "````"
   ]
  },
  {
   "cell_type": "markdown",
   "id": "1277dafb",
   "metadata": {},
   "source": [
    "```{admonition} Sijoitusmenetelmä    \n",
    ":class: tip\n",
    "1. Ratkaistaan 1. (tai 2.) yhtälö esim. x:n suhteen.    \n",
    "2. Sijoitetaan saatu lauseke kyseisen x:n tilalle toiseen yhtälöön, josta ratkaistaan y.    \n",
    "3. x saadaan sijoittamalla y kohdassa 1. saatuun lausekkeeseen\n",
    "```"
   ]
  },
  {
   "cell_type": "markdown",
   "id": "81660375",
   "metadata": {},
   "source": [
    "````{admonition} Esim. Ratkaise sijoitusmenetelmällä yhtälöpari \n",
    ":class: note\n",
    "$\\begin{matrix}\n",
    "2x-5y=-4 \\\\\n",
    "3x+2y=13\n",
    "\\end{matrix}$     \n",
    "```{admonition} Ratkaisu\n",
    ":class: dropdown\n",
    "1. Ratkaistaan 1. yhtälö x:n suhteen. Saadaan 2x=5y-4 , josta x = 5/2y - 2  \n",
    "2. Sijoitetaan tämä 2.:een yhtälöön => 3(5/2y-2)+2y = 13 => 15/2 y -6 + 2y=13 => 19/2 y = 19 => y = 2 \n",
    "3. Sijoitetaan tämä kohdassa 1 saatuun lausekkeeseen => x = $5/2\\cdot2-2$ = 3  \n",
    "\n",
    "Vastaus:  **x = 3 ja y = 2**\n",
    "\n",
    "```\n",
    "````"
   ]
  }
 ],
 "metadata": {
  "jupytext": {
   "cell_metadata_filter": "-all",
   "notebook_metadata_filter": "-all",
   "text_representation": {
    "extension": ".md",
    "format_name": "markdown"
   }
  },
  "kernelspec": {
   "display_name": "Python 3 (ipykernel)",
   "language": "python",
   "name": "python3"
  },
  "language_info": {
   "codemirror_mode": {
    "name": "ipython",
    "version": 3
   },
   "file_extension": ".py",
   "mimetype": "text/x-python",
   "name": "python",
   "nbconvert_exporter": "python",
   "pygments_lexer": "ipython3",
   "version": "3.9.13"
  }
 },
 "nbformat": 4,
 "nbformat_minor": 5
}
