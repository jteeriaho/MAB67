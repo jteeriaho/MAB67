{
 "cells": [
  {
   "cell_type": "markdown",
   "id": "64e7986e",
   "metadata": {},
   "source": [
    "# Verotus"
   ]
  },
  {
   "cell_type": "markdown",
   "id": "01f76da9",
   "metadata": {},
   "source": [
    "## Verokortti"
   ]
  },
  {
   "cell_type": "markdown",
   "id": "3bfc078d",
   "metadata": {},
   "source": [
    "```{admonition} Perusprosentti ja marginaaliveroprosentti\n",
    ":class: tip\n",
    "Verokortissa on tiedot palkansaajan tuloveroista. Se sisältää perusprosentin ja tulorajan, johon saakka sitä sovelletaan, sekä liäsprosentin, joka peritään tulorajan ylittävistä tuloista (ns. marginaaliveroprosentti)\n",
    "```"
   ]
  },
  {
   "cell_type": "markdown",
   "id": "e1bcfa25",
   "metadata": {},
   "source": [
    "### Tuloveron laskeminen verokortin tiedoista"
   ]
  },
  {
   "cell_type": "markdown",
   "id": "43ef5997",
   "metadata": {},
   "source": [
    "```{admonition} Maijan verokirjan perusprosentti on 28 ja lisäprosentti on 40. Tuloraja on 3600 eur/kk.  Maija ansaitsee maaliskuussa 4100 euroa.  Kuinka suuri on siitä pidätettävä vero? \n",
    ":class: dropdown    \n",
    "Koska tulot ylittävät tulorajan, tulorajan summasta pidätetään 28% ja ylimenevästä osasta 40%     \n",
    "\n",
    "$vero = 0.28*3600 + 0.40*(4100-3600) = 0.28*3600 + 0.40*500 = 1208 $   \n",
    "\n",
    "Vastaus: Vero on 1208 euroa\n",
    "```"
   ]
  },
  {
   "cell_type": "markdown",
   "id": "bf8c69b3",
   "metadata": {},
   "source": [
    "*Tuloveron lisäksi Maijan tulee maksaa muita lakisääteisiä maksuja: kuten sairausvakuutusmaksu, työttämyysvakuutusmaksu, työeläkemaksut. Lisäksi kirkon ja AY-liikkeen jäsenmaksut peritään palkasta näihin kuuluvilta* "
   ]
  },
  {
   "cell_type": "markdown",
   "id": "575fce58",
   "metadata": {},
   "source": [
    "## Valtionvero on progressiivinen"
   ]
  },
  {
   "cell_type": "markdown",
   "id": "1835ff18",
   "metadata": {},
   "source": [
    "Vuoden 2019 valtionverotaulukko näytti seuraavalta:\n",
    "\n",
    "![vvero](images/valtio.png)"
   ]
  },
  {
   "cell_type": "markdown",
   "id": "d25d84b7",
   "metadata": {},
   "source": [
    "```{admonition} Pekan verotettava tulo oli vuonna 2019 41000 euroa. Laske taulukon perusteella Pekan valtiolle maksama vero kyseisenä vuonna.     \n",
    ":class: dropdown      \n",
    "Pekan tulot ovat luokassa 26400 - 43500. Luokan alarajan suuruisesta osasta veroa menee 536 euroa, ja\n",
    "alarajan ylittävästä osasta 17.25 prosentin mukaan:    \n",
    "\n",
    "Vero on siten $ 536 + 0.1725*(41000 - 26400) = 3054.50$   \n",
    "\n",
    "Vastaus: Pekan valtionvero on 3091 euroa vuodessa.\n",
    "```"
   ]
  },
  {
   "cell_type": "markdown",
   "id": "ebca189b",
   "metadata": {},
   "source": [
    "## Pääomatulojen verotus"
   ]
  },
  {
   "cell_type": "markdown",
   "id": "9eec4c2f",
   "metadata": {},
   "source": [
    "**Pääomatuloja ovat mm. vuokratulot, osingot ja korkotuotot**      \n",
    "\n",
    "Pääomaveroprosentti on 30,  kun tulot ovat enintään 30000 vuodessa.      \n",
    "Rajan ylimenevältä osalta prosentti on 34."
   ]
  },
  {
   "cell_type": "markdown",
   "id": "6735bba2",
   "metadata": {},
   "source": [
    "```{admonition} Maijalla oli vuonna 2022 pääomatuloja 45200 euroa. Laske veron suuruus.\n",
    ":class: dropdown\n",
    "$ 0.30*30000 + 0.34*(45200-30000) = 14168 $   \n",
    "\n",
    "Vastaus:  14168 Euroa\n",
    "```"
   ]
  },
  {
   "cell_type": "markdown",
   "id": "ebfa3043",
   "metadata": {},
   "source": [
    "## Nettokorko pankkitalletuksesta  / sijoituksesta"
   ]
  },
  {
   "cell_type": "markdown",
   "id": "05ce1e9b",
   "metadata": {},
   "source": [
    "```{admonition} Nettokorko\n",
    ":class: tip\n",
    "30 prosentin pääomaveroa sovelletaan talletuskorkoihin.      \n",
    "\n",
    "**nettokorko = 0.7 * nimellinen korko**   \n",
    "\n",
    "Esim. jos talletuskorko olisi 3.0 %, nettokorko olisi \n",
    "$ 0.7*3.0\\% = 2.1\\%$  $ \n",
    "```"
   ]
  },
  {
   "cell_type": "markdown",
   "id": "0fb8fa7a",
   "metadata": {},
   "source": [
    "```{admonition} Ari tallettaa 2000 euroa pankkiin 2.5% vuosikorolla. Mikä on sijoituksen arvo 5 vuoden kuluttua ottaen huomioon pääomaverotuksen?\n",
    ":class: dropdown\n",
    "Nettokorko (korko verojen jälkeen) = $ 0.7*2.5\\% = 1.75 $     \n",
    "Arvo 5 vuoden kuluttua  $ 2000*1.0175^5 = 2181 euroa  $ \n",
    "\n",
    "Vastaus:  2181 Euroa\n",
    "```"
   ]
  },
  {
   "cell_type": "markdown",
   "id": "d61be4d3",
   "metadata": {},
   "source": [
    "## Arvonlisävero eli ALV"
   ]
  },
  {
   "cell_type": "markdown",
   "id": "c9f3899c",
   "metadata": {},
   "source": [
    "```{admonition} ALV - prosentit ilmoitetaan aina verottoman hinnan suhteen\n",
    ":class: tip\n",
    "Suomessa yleinen ALV -prosentti on 24%        \n",
    "Alennettuja ALV - prosentteja on kaksi:     \n",
    "14% elintarvikkeet, ravintolapalvelut, ....\n",
    "10% kirjat, lääkkeet, liikunta- ja kulttuuripalvelut, matkustus, majoituspalvelut    \n",
    "\n",
    "$Verollinen hinta = 1.24*Veroton hinta$\n",
    "\n",
    "```"
   ]
  },
  {
   "cell_type": "markdown",
   "id": "ae61b043",
   "metadata": {},
   "source": [
    "```{admonition} ALV:n ja verollisen hinnan laskeminen verottomasta hinnasta\n",
    ":class: tip\n",
    "**Veroton hinta + ALV = verollinen hinta**     \n",
    "ALV = 24% verottomasta hinnasta, joten      \n",
    "$ALV = 0.24*veroton hinta$\n",
    "$verollinen hinta = 1.24*veroton hinta = veroton hinta + ALV$\n",
    "\n",
    "```"
   ]
  },
  {
   "cell_type": "markdown",
   "id": "c8eeddbc",
   "metadata": {},
   "source": [
    "```{admonition} Polkupyörän veroton hinta on 450 euroa. Laske ALV ja verollinen hinta?\n",
    ":class: dropdown\n",
    "Verollinen hinta = $ 450*1.24 = 558  $ euroa    \n",
    "ALV = $ 0.24*450  = 108   $ euroa\n",
    "\n",
    "Vastaus:  verollinen hinta = 558 euroa, ALV =  108 euroa\n",
    "```"
   ]
  },
  {
   "cell_type": "markdown",
   "id": "646faf35",
   "metadata": {},
   "source": [
    "```{admonition} ALV:n ja verottoman hinnan laskeminen verollisesta hinnasta\n",
    ":class: tip\n",
    "Suhdelukuina voi käyttää **Veroton hinta = 100, ALV = 24, verollinen hinta = 124**     \n",
    "\n",
    "$ALV = 24/124\\cdot verollinen hinta$\n",
    "\n",
    "$Veroton hinta = 100/124\\cdot verollinen hinta $\n",
    "\n",
    "```"
   ]
  },
  {
   "cell_type": "markdown",
   "id": "24a8cf42",
   "metadata": {},
   "source": [
    "```{admonition} Kuinka paljon lahjan saaja säästää veroissa, jos 60000 euron kertalahjoituksen sijasta lahjoitettaisiin 20000 euroa kolmena vuonna peräkkäin?\n",
    ":class: dropdown\n",
    "Veroton hinta = $ 100/124\\cdot 125 = 100.81 euroa $     \n",
    "ALV = $ 24/124\\cdot 125 = 24.19 euroa  $ \n",
    "\n",
    "Vastaus:  veroton hinta = 100.81 euroa, ALV = 24.19 euroa\n",
    "```"
   ]
  },
  {
   "cell_type": "markdown",
   "id": "937795ee",
   "metadata": {},
   "source": [
    "## Lahja- ja perintövero on progressiivinen"
   ]
  },
  {
   "cell_type": "markdown",
   "id": "c8417bf3",
   "metadata": {},
   "source": [
    "Alla on lahjaverotaulukko vuodelta 2022     \n",
    "\n",
    "![lvero](images/lahja.png)"
   ]
  },
  {
   "cell_type": "markdown",
   "id": "ff204735",
   "metadata": {},
   "source": [
    "```{admonition} Mikko sai v. 2022 tädiltään  12000 euroa. Paljonko hän joutuu maksamaan lahjaveroa? \n",
    ":class: dropdown\n",
    "Vero = $ 100 + 0.19*(12000-5000) = 1430 $     \n",
    "\n",
    "Vastaus:  1430 euroa\n",
    "```"
   ]
  }
 ],
 "metadata": {
  "jupytext": {
   "cell_metadata_filter": "-all",
   "notebook_metadata_filter": "-all",
   "text_representation": {
    "extension": ".md",
    "format_name": "markdown"
   }
  },
  "kernelspec": {
   "display_name": "Python 3 (ipykernel)",
   "language": "python",
   "name": "python3"
  },
  "language_info": {
   "codemirror_mode": {
    "name": "ipython",
    "version": 3
   },
   "file_extension": ".py",
   "mimetype": "text/x-python",
   "name": "python",
   "nbconvert_exporter": "python",
   "pygments_lexer": "ipython3",
   "version": "3.11.0"
  }
 },
 "nbformat": 4,
 "nbformat_minor": 5
}