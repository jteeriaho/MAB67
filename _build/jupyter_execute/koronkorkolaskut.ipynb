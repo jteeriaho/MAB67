{
 "cells": [
  {
   "cell_type": "markdown",
   "id": "8bf625d0",
   "metadata": {},
   "source": [
    "# Koronkorkolaskut"
   ]
  },
  {
   "cell_type": "markdown",
   "id": "1c44fa34",
   "metadata": {},
   "source": [
    "**Suurimmassa osassa lainoista käytetään *koronkorkomenetelmää* lainakorkojen laskemisessa.**       \n",
    ">Poikkeuksena ovat vain lyhyet, parin kolmen kuukauden vipit.       \n",
    "\n",
    "Koronkorkomenetelmä tunnetaan englannin kielessa nimellä **\"compound interest method\"**      \n",
    ">Sovellusalueena ovat **asuntolainat, kulutusluotot ja pankkikorttiluotot.**     \n",
    "\n",
    "\n",
    "**Koronkorkomenetelmässä** korko liitetään pääomaan kunkin korkojakson lopussa.      \n",
    "> Seuraavan korkojakson aikana korkoa kertyy alkuperäisen pääoman ja siihen liitetyn koron yhteissummalle. "
   ]
  },
  {
   "cell_type": "markdown",
   "id": "2cd8b736",
   "metadata": {},
   "source": [
    "## Korkolaskuissa käytettävät symbolit"
   ]
  },
  {
   "cell_type": "markdown",
   "id": "8df0985e",
   "metadata": {},
   "source": [
    "> k = nykyarvo (investoitu summa, alkupääoma)       \n",
    ">\n",
    "> K = tuleva arvo (karttunut pääoma)    \n",
    ">\n",
    "> i = korkokanta (laskuissa desimaalimuodossa: esim. 5% = 0.05)      \n",
    ">\n",
    "> t = aika, korkojaksojen lukumäärä\n",
    ">\n",
    "> r = 1 + i  =  korkokerroin eli korkotekijä, esim. 1.05 jos korko on 5%\n"
   ]
  },
  {
   "cell_type": "markdown",
   "id": "f34b07a4",
   "metadata": {},
   "source": [
    "## Tulevan arvon laskeminen koronkorkomenetelmällä"
   ]
  },
  {
   "cell_type": "markdown",
   "id": "70b6b6d3",
   "metadata": {},
   "source": [
    "> **Koronkorkomenetelmässä** korko lisätään jokaisen korkojakson lopussa lainapääomaan kertomalla korkotekijällä 1 + i.\n",
    "\n",
    "> Korkojakso voi olla vuosi tai kuukausi. Kulutusluotoissa ja pankkikorteissa jälkimmäinen on yleisin. \n",
    "\n",
    "> Jos korkojakso on kuukausi, on korkokerrointa 1 + i laskettaessa käytettävä kuukausikorkoa (vuosikorko/12)"
   ]
  },
  {
   "cell_type": "markdown",
   "id": "1e1c9a40",
   "metadata": {},
   "source": [
    "```{admonition} **Tulevan arvon laskeminen**\n",
    ":class: tip\n",
    " \n",
    "Tuleva arvo $K = k\\cdot (1+i)^t$     \n",
    "\n",
    "k = nykyarvo, i = korkokanta, t = aika (korkojaksojen lukumäärä)\n",
    "\n",
    "```"
   ]
  },
  {
   "cell_type": "markdown",
   "id": "356015ff",
   "metadata": {},
   "source": [
    "```{admonition} **Tulevan arvon laskeminen, kun korkokausi on alle vuosi**\n",
    ":class: tip\n",
    " \n",
    "Tuleva arvo $K = k\\cdot (1+\\frac{i}{n})^{n\\cdot t}$     \n",
    "\n",
    "k = nykyarvo, i = nimellinen vuosikorko, t = aika vuosina, n = korkojaksojen määrä vuodessa.\n",
    "\n",
    "```"
   ]
  },
  {
   "cell_type": "markdown",
   "id": "fdd0b209",
   "metadata": {},
   "source": [
    "```{admonition} **Tulevan arvon kaava on funktio **TULEVA.ARVO** Calc-taulukko-ohjelmassa**\n",
    ":class: tip\n",
    "=TULEVA.ARVO(korko;erien määrä; ;lainamäärä)  *(kolmas argumentti jätetään tyhjäksi)*  \n",
    ">esim. 1000 € talletuksen arvo 5v kuluttua 2% korolla:  =TULEVA.ARVO(2%;5; ;1000)       \n",
    ">jos ohjelmaversio on englannin kielinen, funktio on FV\n",
    "```"
   ]
  },
  {
   "cell_type": "markdown",
   "id": "d33c0203",
   "metadata": {},
   "source": [
    "=TULEVA.ARVO(korko;erien määrä; ;lainamäärä)  *(kolmas argumentti jätetään tyhjäksi)*  \n",
    ">esim. 1000 € talletuksen arvo 5v kuluttua 2% korolla:  =TULEVA.ARVO(2%;5; ;1000)       \n",
    ">jos ohjelmaversio on englannin kielinen, funktio on FV"
   ]
  },
  {
   "cell_type": "markdown",
   "id": "6d7802d0",
   "metadata": {},
   "source": [
    "```{admonition} Esim. Irina tallentaa pankin säästötilille 5000 Euroa 5 vuodeksi. Korkoprosentti on 2.5% p.a *(per annum = vuodessa)*. Laske säästötilin saldo 5 vuoden kuluttua Euron tarkkuudella, kun a) korko maksetaan kerran vuodessa, b)korko maksetaan kuukausittain.       \n",
    ":class: dropdown\n",
    "a) Tehtävässä annettua korkoa vastaava korkotekijä r = 1 + i = 1.025.         \n",
    "\n",
    "Loppusaldo $K = k\\cdot (1+i)^t = 5000\\cdot 1.025^5 = 5657$    \n",
    "\n",
    "b) Jos korko maksetaan kuukausittain, kk-korko on 2.5%/12 = 0.2083% ja korkotekijä on 1.002083.     \n",
    "\n",
    "Loppusaldo on tässä tapauksessa $K =  5000\\cdot (1+\\frac{0.025}{12})^{12\\cdot 5}= 5000\\cdot (1.002083)^{60} = 5665$       \n",
    "\n",
    "*Huom! Tämänkin tehtävän tekstin voi kopioida sellaisenaan tekoälyyn (esim. Edge selaimen Bing), joka antaa kaavat ja välivaiheet. Tekoälyn laskin on epätarkka (heitto kymmeniä euroja), joten numerolaskut kannattaa tarkistaa laskimella.*   \n",
    "\n",
    "Calc-ohjelmalla:  a) =TULEVA.ARVO(2,5%;5;;5000)  b) =TULEVA.ARVO(2,5%/12;5*12;;5000)\n",
    "```"
   ]
  },
  {
   "cell_type": "markdown",
   "id": "4c127493",
   "metadata": {},
   "source": [
    "## Nykyarvon laskeminen (diskonttaus)"
   ]
  },
  {
   "cell_type": "markdown",
   "id": "65c6637f",
   "metadata": {},
   "source": [
    "Kun halutaan tietää esim. jonkin tulevan tuoton arvo nykyhetkellä, tarvitaan **nykyarvon laskemista eli diskonttausta** "
   ]
  },
  {
   "cell_type": "markdown",
   "id": "c72e602e",
   "metadata": {},
   "source": [
    "```{admonition} **Nykyarvon laskukaava**\n",
    ":class: tip\n",
    " \n",
    "Nykyarvo $k = \\frac{K}{(1+i)^t}\\hspace{1cm}$ joka voidaan esittää myös muodossa       \n",
    "\n",
    "$k = K {(1+i)}^{-t} $      \n",
    "\n",
    "K = tuleva arvo, i = korkokanta, t = aika (korkojaksojen lukumäärä)\n",
    "\n",
    "```"
   ]
  },
  {
   "cell_type": "markdown",
   "id": "a0bbee21",
   "metadata": {},
   "source": [
    "```{admonition} Paavo sijoittaa 20000 € kohteeseen, josta arvioi saavansa 24000 € myydessään sen 5 v kuluttua. Paavo tavoittelee 4.0% prosentin voittoa investoinnille. Toteutuuko tavoite?\n",
    ":class: dropdown\n",
    "\n",
    "Lasketaan myyntihinnan nykyarvo 4 % korkokannalla. $k = K {(1+i)}^{-t} = 24000\\hspace{1mm} {1.04}^{-5} = 19726$              \n",
    "\n",
    "Myyntihinnan nykyarvo on pienempi kuin investoitu summa 20000, joten Paavon tavoite ei toteudu.\n",
    "```"
   ]
  },
  {
   "cell_type": "markdown",
   "id": "a21ce6ad",
   "metadata": {},
   "source": [
    "##  Korkokannan i ratkaiseminen koronkorkokaavasta"
   ]
  },
  {
   "cell_type": "markdown",
   "id": "eeb38527",
   "metadata": {},
   "source": [
    "```{admonition} **Korkokannan (eli korkoprosentin) laskeminen**\n",
    ":class: tip\n",
    " \n",
    "Korkokanta $i = \\sqrt[t]{\\frac{K}{k}}-1$  \n",
    "\n",
    "K = tuleva arvo, k=nykyarvo, t = aika (korkojaksojen lukumäärä)\n",
    "\n",
    "```"
   ]
  },
  {
   "cell_type": "markdown",
   "id": "e907911c",
   "metadata": {},
   "source": [
    "*Kaavan perustelu:*     \n",
    "$K = k {(1+i)}^{t} \\Rightarrow \\frac{K}{k} = (1+i)^t \\Rightarrow 1+i=\\sqrt[t]{\\frac{K}{k}}\\Rightarrow i = \\sqrt[t]{\\frac{K}{k}}-1 $     "
   ]
  },
  {
   "cell_type": "markdown",
   "id": "ba5149ae",
   "metadata": {},
   "source": [
    "```{admonition} Paavo sijoittaa 20000 € kohteeseen, josta arvioi saavansa 24000 € myydessään sen 5 v kuluttua. Paavo tavoittelee 4.0% prosentin voittoa investoinnille. Toteutuuko tavoite? Laske Paavon saama todellinen korko?\n",
    ":class: dropdown\n",
    "\n",
    "Lasketaan Paavon saama todellinen korko. $i = \\sqrt[t]{\\frac{K}{k}}-1 =\\sqrt[t]{\\frac{24000}{25000}}-1 = 0.037=3.7\\%$              \n",
    "\n",
    "Todellinen korko jää alle Paavon tavoitteen.\n",
    "```"
   ]
  },
  {
   "cell_type": "markdown",
   "id": "ea9cb2cd",
   "metadata": {},
   "source": [
    "##  Ajan ratkaiseminen koronkorkokaavasta"
   ]
  },
  {
   "cell_type": "markdown",
   "id": "74047cbb",
   "metadata": {},
   "source": [
    "Jos halutaan laskea, missä ajassa alkupääoma k karttuu arvoon K korkokannalla i, pitää ratkaista koronkorkokaava ajan t suhteen. Toinen tapa olisi käyttää laskimen yhtälönratkaisinta."
   ]
  },
  {
   "cell_type": "markdown",
   "id": "a5ab7cdf",
   "metadata": {},
   "source": [
    "```{admonition} **Ajan laskeminen**\n",
    ":class: tip\n",
    " \n",
    "Aika (=korkojaksojen määrä)  $t = \\frac {log(\\frac{K}{k})}{log(1+i)}$  \n",
    "\n",
    "K = tuleva arvo, k=nykyarvo, t = aika (korkojaksojen lukumäärä)\n",
    "\n",
    "```"
   ]
  },
  {
   "cell_type": "markdown",
   "id": "9dc23792",
   "metadata": {},
   "source": [
    "Kaavassa esitetty **logaritmifunktio** on kehitetty nimenomaan eksponenttiyhtälön $a^x = b$ ratkaisuun. Vanhoissa funktiolaskimissa on olemassa vain log-näppäin, joka ratkaisee yhtälön $10^x = b$. Se on aivan riittävä, koska muilla kantaluvun a arvoilla voidaan käyttää ao. muunnoskaavaa.    \n",
    "\n",
    "![logar](images/log.png)  \n"
   ]
  },
  {
   "cell_type": "markdown",
   "id": "b79cbab1",
   "metadata": {},
   "source": [
    " Kaavan perustelu:   $K = k {(1+i)}^{t} \\Rightarrow  (1+i)^t = \\frac{K}{k} \\Rightarrow t = \\frac {log(\\frac{K}{k})}{log(1+i)} $"
   ]
  },
  {
   "cell_type": "markdown",
   "id": "90f8db60",
   "metadata": {},
   "source": [
    "```{admonition} Missä ajassa 1000 euron pankkitalletus kasvaa 1200 euroon, kun korko on 3.0% p.a ja korko lisätään kuukausittain pääomaan?\n",
    ":class: dropdown\n",
    "Korkojakso on kuukausi, joten lasketaan kuukausikorko, joka on 3.0%/12 = 0.25%.     \n",
    "Korkotekijä, jota käytetään joka kuukauden lopussa on  1 + i = 1 + 0.0025 = 1.0025.        \n",
    "\n",
    "Tapa1: $t = \\frac {log(\\frac{K}{k})}{log(1+i)} =  \\frac {log(\\frac{1200}{1000})}{log(1.0025)} = 73 kk $       \n",
    "\n",
    "Vastaus:  73 kk kuluttua eli 6 v 1 kk kuluttua.\n",
    "\n",
    "Tapa2: Ratkaistaan aika t yhtälöstä $K = k(1+i)^t$ laskimen yhtälön ratkaisimella:\n",
    "Monissa laskimossa komento on **solve(1200 =1000*1.0025^t, t)**. Laskin antaa tulokseksi t = 73\n"
   ]
  },
  {
   "cell_type": "markdown",
   "id": "9566fd02",
   "metadata": {},
   "source": [
    "```{admonition} Annen auton arvo on nyt 5000 €. Monenko vuoden kuluttua arvo on enää 1000 € olettaen, että ko. automallin arvo putoaa 15% vuodessa?\n",
    ":class: dropdown\n",
    "Korko on tässä tapauksessa negatiivinen luku -0.015, joten korkotekijä 1 + i = 0.85        \n",
    "\n",
    "Tapa1: $t = \\frac {log(\\frac{K}{k})}{log(1+i)} =  \\frac {log(\\frac{1000}{5000})}{log(0.85)} = 9.9 $       \n",
    "\n",
    "Vastaus:  9.9 vuoden kuluttua.\n",
    "\n",
    "Tapa2: Ratkaistaan aika t yhtälöstä $K = k(1+i)^t$ laskimen yhtälön ratkaisimella:\n",
    "Monissa laskimossa komento on **solve(1000 = 5000*0.85^t, t)**. Laskin antaa tulokseksi t = 9.9\n",
    "\n",
    "```"
   ]
  }
 ],
 "metadata": {
  "jupytext": {
   "cell_metadata_filter": "-all",
   "notebook_metadata_filter": "-all",
   "text_representation": {
    "extension": ".md",
    "format_name": "markdown"
   }
  },
  "kernelspec": {
   "display_name": "Python 3 (ipykernel)",
   "language": "python",
   "name": "python3"
  },
  "language_info": {
   "codemirror_mode": {
    "name": "ipython",
    "version": 3
   },
   "file_extension": ".py",
   "mimetype": "text/x-python",
   "name": "python",
   "nbconvert_exporter": "python",
   "pygments_lexer": "ipython3",
   "version": "3.11.0"
  }
 },
 "nbformat": 4,
 "nbformat_minor": 5
}