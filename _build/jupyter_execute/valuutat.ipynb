{
 "cells": [
  {
   "cell_type": "markdown",
   "id": "64e7986e",
   "metadata": {},
   "source": [
    "# Valuutat"
   ]
  },
  {
   "cell_type": "markdown",
   "id": "01f76da9",
   "metadata": {},
   "source": [
    "## Valuuttakurssit"
   ]
  },
  {
   "cell_type": "markdown",
   "id": "a3a94a53",
   "metadata": {},
   "source": [
    "```{admonition} Mikä on valuuttakurssi\n",
    ":class: tip\n",
    "Valuuttakurssi kertoo 1 Euron arvon ulkomaan valuutassa: 1 Euro = X Muu_Valuutta\n",
    "Suomi on Euromaa, joten Euroopan keskuspankki määrittää päivittäin ns. **keskikurssit**\n",
    ">Pankin laskevat keskikurssista **myyntikurssin** ja **ostokurssin**, jolla ne myyvät ja ostavat muita valuuttoja. \n",
    ">Ero keskikurssiin johtuu pankin haluamasta valuutanvaihtoon liittyvästä marginaalista.   \n",
    ">Sähköiselle \"tilivaluutalle\" marginaali on pienempi kuin käteiselle rahalle.\n",
    "```"
   ]
  },
  {
   "cell_type": "markdown",
   "id": "e1bcfa25",
   "metadata": {},
   "source": [
    "### Esim. Nordean valuuttakursseista"
   ]
  },
  {
   "cell_type": "markdown",
   "id": "df697177",
   "metadata": {},
   "source": [
    "![nordea](images/valuutat.png)"
   ]
  },
  {
   "cell_type": "markdown",
   "id": "2f5450e2",
   "metadata": {},
   "source": [
    "### Ulkomaan valuutan vaihto euroiksi / esimerkkejä"
   ]
  },
  {
   "cell_type": "markdown",
   "id": "b996a325",
   "metadata": {},
   "source": [
    "```{admonition} Muunnos euroiksi kun pankki myy ulkomaan rahaa\n",
    ":class: tip\n",
    "euromäärä = ulkomaan valuutan määrä / myyntikurssi\n",
    "```"
   ]
  },
  {
   "cell_type": "markdown",
   "id": "43ef5997",
   "metadata": {},
   "source": [
    "```{admonition} Maksat Nordean kautta 400 SEK:n laskun Ruotsiin. Paljonko maksat euroina?\n",
    ":class: dropdown\n",
    "Nordea siis myy sinulla 400 Ruotsin kruunua, jonka myyntikurssi on 11.358 (ts. 1 € = 11.358 SEK)\n",
    "Euroiksi muutettuna summa on **400/11.358 = 32.22 euroa** \n",
    "\n",
    "```"
   ]
  },
  {
   "cell_type": "markdown",
   "id": "6e5d1baf",
   "metadata": {},
   "source": [
    "Jos on epävarma, pitääkö jakaa vai kertoa kurssilla, voi ajatella ratkaisua myös verrannon avulla:\n",
    "\n",
    " 1 euro  = 11.358 SEK \n",
    " x euroa = 400 SEK    \n",
    "\n",
    "Tästä saadaan verranto $\\frac {x}{1} = \\frac {400}{11.358}$"
   ]
  },
  {
   "cell_type": "markdown",
   "id": "7eb57263",
   "metadata": {},
   "source": [
    "```{admonition} Muunnos euroiksi kun pankki ostaa ulkomaan rahaa\n",
    ":class: tip\n",
    "euromäärä = ulkomaan valuutan määrä /ostokurssi\n",
    "```"
   ]
  },
  {
   "cell_type": "markdown",
   "id": "575fce58",
   "metadata": {},
   "source": [
    "```{admonition} Sinulle on jäänyt Lontoon matkalta ylimääräiset 150 GBP (puntaa), jonka haluat vaihtaa Helsingin lentoasemalla Euroiksi. Paljonko saat (olettaen, että käytetään Nordean taulukkoa, eikä vaihdosta menisi toimitusmaksua) \n",
    ":class: dropdown\n",
    "Pankki ostaa sinulta 150 GBP, ostokurssin ollessa 0.8748  (ts. 1 € = 0.8748 GBP)\n",
    "Euroiksi muutettuna summa on 150/0.8748 = 171.48 euroa.\n",
    "\n",
    "```"
   ]
  },
  {
   "cell_type": "markdown",
   "id": "f1af4eaa",
   "metadata": {},
   "source": [
    "### Määrätyn euromäärän vaihtaminen ulkomaan valuutaksi"
   ]
  },
  {
   "cell_type": "markdown",
   "id": "3ffdd9f4",
   "metadata": {},
   "source": [
    "**Tässä tapauksessa euromäärä kerrotaan ulkomaan valuutan kurssilla**"
   ]
  },
  {
   "cell_type": "markdown",
   "id": "33a8867f",
   "metadata": {},
   "source": [
    "```{admonition} Vaihdat laivalla 200 euroa Ruotsin kruunuiksi. Montako kruunua saat?\n",
    ":class: dropdown\n",
    "Oletaan, että kurssit on ilmoitettu vaihtopisteessä kuten Suomessa (muoto 1 euro = X SEK)\n",
    "Saamasi määrä kruunuja on  200*11.358 = 2271.60 SEK\n",
    "```"
   ]
  },
  {
   "cell_type": "markdown",
   "id": "7effd887",
   "metadata": {},
   "source": [
    "### Pankkikortilla maksu ja pankkiautomaatit ulkomailla"
   ]
  },
  {
   "cell_type": "markdown",
   "id": "9eec4c2f",
   "metadata": {},
   "source": [
    "Pankkikortit käyvät maksuvälineenä ulkomailla. Käteistä voi nostaa automaateista.\n",
    "Valuutan vaihto toimistoista ei ole kannattavaa kortin käyttöön verrattuna"
   ]
  }
 ],
 "metadata": {
  "jupytext": {
   "cell_metadata_filter": "-all",
   "notebook_metadata_filter": "-all",
   "text_representation": {
    "extension": ".md",
    "format_name": "markdown"
   }
  },
  "kernelspec": {
   "display_name": "Python 3 (ipykernel)",
   "language": "python",
   "name": "python3"
  },
  "language_info": {
   "codemirror_mode": {
    "name": "ipython",
    "version": 3
   },
   "file_extension": ".py",
   "mimetype": "text/x-python",
   "name": "python",
   "nbconvert_exporter": "python",
   "pygments_lexer": "ipython3",
   "version": "3.11.0"
  }
 },
 "nbformat": 4,
 "nbformat_minor": 5
}