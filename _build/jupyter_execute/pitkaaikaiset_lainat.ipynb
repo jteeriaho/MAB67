{
 "cells": [
  {
   "cell_type": "markdown",
   "id": "58d5a3e4",
   "metadata": {},
   "source": [
    "# Pitkäaikaiset lainat      "
   ]
  },
  {
   "cell_type": "markdown",
   "id": "1c44fa34",
   "metadata": {},
   "source": [
    "**Lainalaskelma** on taulukko, jossa on kunkin kuukauden maksettava summa jaettuna lyhennyksen ja korkoon, sekä uusi lainapääoma maksun jälkeen.     \n",
    "\n",
    "Lainojen päätyypit ovat **tasalyhennyslaina** ja **tasaerälaina**.      \n",
    " \n",
    ">**Tasalyhennyslainassa** lainapääoma lyhenee saman määrän joka kuukausi, kun taas koron osuus pienenee lainapääoman pienentyessä.     \n",
    "![tasl](images/tasalyh.png)\n",
    ">\n",
    ">**Tasaerälainassa** kuukausimaksu on sama koko laina-ajan. Alussa koron osuus on suuri ja lyhennys pieni. Laina-ajan loppupuolella korko lähestyy nollaa, ja lainapääoma lyhenee nopeasti. Tasaerälaina on nykyään yleisin.\n",
    "![tasl](images/tasaera.png)"
   ]
  },
  {
   "cell_type": "markdown",
   "id": "59fc890d",
   "metadata": {},
   "source": [
    "## Tasalyhennyslainan lyhennyslaskelma "
   ]
  },
  {
   "cell_type": "markdown",
   "id": "dde4c28d",
   "metadata": {},
   "source": [
    "**Esimerkkinä 900 euron tasalyhennyslaina, jonka laina-aika on 6 kk, nimelliskorko 6% => kk-korko on 0.5%**    \n",
    "![tasal](images/tllaskelma.png)"
   ]
  },
  {
   "cell_type": "markdown",
   "id": "d639ad89",
   "metadata": {},
   "source": [
    "**Ohje laskeman laatimiseen**     \n",
    "\n",
    "1) Kirjoita soluun B2 lainan suuruus 900. Laske kk-lyhennys 900/6 = 150 ja kirjoita se kaikiin C sarakkeen soluihin.      \n",
    "\n",
    "2) Kirjoita 4 kaavaa:  soluun D2 kaava =0,5/100*B2,  soluun E2 kaaava =C2 + D2        \n",
    "  soluun F2 kaava =B2-C2, sekä soluun B2 kaava =F2, joka kopioi lainapääoman seuraavalle kuukaudelle.    \n",
    "  \n",
    "3) Kopioi kaikki kaavat alas vetämällä kaavasolun oikeasta alakulmasta"
   ]
  },
  {
   "cell_type": "markdown",
   "id": "a219571e",
   "metadata": {},
   "source": [
    "## Annuiteettilaina eli tasaerälaina"
   ]
  },
  {
   "cell_type": "markdown",
   "id": "9e954abf",
   "metadata": {},
   "source": [
    "### Tasaerälainan kk-maksun laskukaava "
   ]
  },
  {
   "cell_type": "markdown",
   "id": "7507c1e1",
   "metadata": {},
   "source": [
    "Nykyisin yleisin lainamuoto asunto- ja kulutusluotoissa on **tasaerälaina**, jossa laina maksetaan takaisin koko laina-ajan samansuuruisina pysyvinä suorituksina, jotka sisältävät sekä lyhennyksen että koron.    \n",
    "\n",
    "Alla on kaava maksuerän suuruuden laskemiseen.  Kaava voidaan johtaa käyttämällä geometrisen sarjan summan kaavaa, joka löytyy kaavakirjoista. **Kaavan perustelu löytyy tämän sivun lopussa olevasta liitteestä**      "
   ]
  },
  {
   "cell_type": "markdown",
   "id": "0fd590a5",
   "metadata": {},
   "source": [
    "```{admonition} **Tasaerälainan maksuerän laskukaava**\n",
    ":class: tip  \n",
    "\n",
    "$p=\\frac{k\\hspace{1mm}i}{1-(1+i)^{-n}}$      \n",
    "\n",
    "k = lainamäärä, i = korkojakson korkoprosentti, n = erien määrä    \n",
    "\n",
    "Huom! Calc ohjelmassa maksuerä saadaan funktiolla PMT(korko,erien määrä, lainamäärä)\n",
    "```"
   ]
  },
  {
   "cell_type": "markdown",
   "id": "6ab0897a",
   "metadata": {},
   "source": [
    "###  Esimerkki kuukausierän laskemisesta kaavalla ja taulukkolaskentaohjelmalla"
   ]
  },
  {
   "cell_type": "markdown",
   "id": "f34036d0",
   "metadata": {},
   "source": [
    "```{admonition} Esim. Maija ostaa tietokoneen luotolla, jonka maksuaika on 18 kk. Luottosumma on 800 Euroa, korko 6% vuodessa eli 0.5% kk:ssa. Mikä on kuukausierän suuruus?\n",
    ":class: dropdown\n",
    "\n",
    "Periaate:  Maksuerien nykyarvojen summan on oltava yhtäsuuri kuin ostohinta.     \n",
    "\n",
    "Kuukausierä p on yhtälön $800 = \\frac {p}{1.005}+ \\frac {p}{1.005^2} + ... + \\frac {p}{1.005^{18}}$ ratkaisu. \n",
    "\n",
    "Yhtälö on liian pitkä laskimella ratkaistavaksi. Käytetään **tasaerän laskukaavaa**   \n",
    "\n",
    "$p=\\frac{k\\hspace{1mm}i}{1-(1+i)^{-n}}$, missä k = lainattu summa, i = lyhennyskauden korko,     \n",
    "n = lyhennysten lukumäärä     \n",
    "\n",
    "Sijoitusten jälkeen saadaan tasaeräksi $p= \\frac{800\\hspace{1mm}\\cdot \\hspace{1mm}0.005}{1-1.005^{-18}} = 46.59 $     \n",
    "\n",
    "Calc ohjelmalla: $\\color{blue}{\\text{=PMT(0,5%;18;800)}}$   \n",
    "\n",
    "```"
   ]
  },
  {
   "cell_type": "markdown",
   "id": "6a5b434c",
   "metadata": {},
   "source": [
    "### Tasaerälainan lainalaskelman tekeminen taulukkolaskentaohjelmalla"
   ]
  },
  {
   "cell_type": "markdown",
   "id": "fb697b14",
   "metadata": {},
   "source": [
    "**Esimerkkinä 900 euron tasaerälaina, jonka laina-aika on 6 kk, nimelliskorko 6% => kk-korko on 0.5%**    \n",
    "![tasaera](images/telaskelma.png)"
   ]
  },
  {
   "cell_type": "markdown",
   "id": "003bc6ce",
   "metadata": {},
   "source": [
    "**Ohje laskeman laatimiseen**     \n",
    "\n",
    "1) Lasketaan kk-erä kaavalla $p=\\frac{k\\hspace{1mm}i}{1-(1+i)^{-n}} =\\frac{900\\hspace{1mm}0.005}{1-(1+0.005)^{-6}}=152.636 $ tai käyttämällä taulukkolaskentaohjelman valmisfunktiota PMT (suom. MAKSU). Kirjoita soluun B2 lainan suuruus ja täytä E sarake maksurän suuruudella 152.636\n",
    "\n",
    "2) Kirjoita 4 kaavaa seuraavassa järjestyksessä:  soluun D2 kaava =0,5/100*B2,  soluun C2 kaaava = E2 - D2        \n",
    "  soluun F2 kaava =B2-C2, sekä soluun B2 kaava =F2, joka kopioi lainapääoman seuraavalle kuukaudelle.    \n",
    "  \n",
    "3) Kopioi kaikki kaavat alas vetämällä kaavasolun oikeasta alakulmasta"
   ]
  },
  {
   "cell_type": "markdown",
   "id": "25cfdd74",
   "metadata": {},
   "source": [
    "#### Tasaerälaina, johon sisältyy \"suurempi viimeinen erä\""
   ]
  },
  {
   "cell_type": "markdown",
   "id": "9bc77c5f",
   "metadata": {},
   "source": [
    "Esim. 5000 euron taserälaina, jonka korkojakso on 1 vuosi, laina-aika 5 vuotta ja korko 10%. Viimeisen maksun yhteydessä maksetaan ylimääräinen 2000 euron isompi erä.  Mikä on tasaerän suuruus?  \n",
    "\n",
    "**Periaate:** Merkitään tasaerää p:llä. Tulevien maksujen nykyarvojen summan on oltava sama kuin lainattu summa.      \n",
    "\n",
    "Ts. $5000 = \\frac{p}{1.01} + \\frac{p}{1.01^2} + ... + \\frac{p}{1.01^5} + \\frac{2000}{1.01^5}$, josta p voidaan ratkaista laskimen yhtälönratkaisimella.      \n",
    "\n",
    "Tämä menettely voidaan yleistää kaavaksi, jota käyttäen tasaerä p voidaan ratkaista peruslaskimilla.\n"
   ]
  },
  {
   "cell_type": "markdown",
   "id": "77c4b76d",
   "metadata": {},
   "source": [
    "```{admonition} **Tasaerälaina, jossa viimeiseen erään on lisätty lainan jäännösarvo**\n",
    ":class: tip  \n",
    "\n",
    "$p=\\frac{k\\hspace{1mm}i-K\\hspace{1mm}i (1+i)^{-n}}{1-(1+i)^{-n}}$      \n",
    "\n",
    "k = lainamäärä, i = korkojakson korkoprosentti, n = erien määrä, K = jäännösarvo    \n",
    "\n",
    "   \n",
    "```"
   ]
  },
  {
   "cell_type": "markdown",
   "id": "e5a9b23e",
   "metadata": {},
   "source": [
    "**Moni autoliike mainostaa vaihtoautoja seuraavasti:  Auton hinta on 6000 euroa, rahoitus 36 kk maksuajalla ja 0.5% kk-korolla antaa kuukausieräksi 131.69. Viimeinen maksuerä on 2000 euroa suurempi.**       \n",
    "\n",
    "**Tällä tavalla saadaan kuukausierää pienennettyä. Lainaa ei siisä makset loppuun saakka, vaan asiakas jää 2000 euroa velkaa sopimuksen loppuessa, mikä usein johtaa siihen, että asiakas jatkaa asiakkuuttaan ja tekee sopimuksen uudesta vaihtoautosta."
   ]
  },
  {
   "cell_type": "markdown",
   "id": "6c9835b3",
   "metadata": {},
   "source": [
    "```{admonition} Esim. Eero ostaa vaihtoauton osamaksulla, jonka maksuaika on 36 kk. Luottosumma on 6000 euroa, korko 6% vuodessa eli 0.5% kk:ssa. Mikä on kuukausierän suuruus, kun viimeiseen erään on lisätty jäännösarvo 2000 euroa?\n",
    ":class: dropdown\n",
    "\n",
    "Periaate:  Maksuerien nykyarvojen summan on oltava yhtäsuuri kuin ostohinta.     \n",
    "\n",
    "Käytetään **laskukaavaa**   \n",
    "\n",
    "$p=\\frac{k\\hspace{1mm}i-K\\hspace{1mm}i (1+i)^{-n}}{1-(1+i)^{-n}}$, missä k = lainattu summa, i = lyhennyskauden korko,       \n",
    "n = lyhennysten lukumäärä (laina-aika) ja K on viimeiseen erään lisätty ns. jäännösarvo     \n",
    "\n",
    "Sijoitusten jälkeen saadaan tasaeräksi \n",
    "$p=\\frac{6000\\hspace{1mm}0.05-2000\\hspace{1mm}0.005\\cdot 1.005^{-36}}{1-1.005^{-36}} = 131.69 $      \n",
    "\n",
    "Calc-ohjelmalla: $\\color{blue}{\\text{=PMT(0,5%;36;5000,-2000)}}$\n",
    "\n",
    "```"
   ]
  },
  {
   "cell_type": "markdown",
   "id": "fb6533da",
   "metadata": {},
   "source": [
    "## Efektiivinen korko"
   ]
  },
  {
   "cell_type": "markdown",
   "id": "57b4f524",
   "metadata": {},
   "source": [
    "> Lainakorko ilmoitetaan useimmiten **NIMELLISKORKONA** (symboli i), esim. 6% vuodessa**\n",
    ">\n",
    ">Usein lainojen korkojakso on 1 kk ja maksut ovat kk:n välein      \n",
    "\n",
    "\n",
    ">**Jos korkojakso on 1kk, nimelliskorosta pitää laskea kuukausikorko**  $i_{kk}=\\frac{1}{12}$\n",
    ">\n",
    ">**Todellinen, \"EFEKTIIVINEN KORKO\" $i_{eff}$= 12 kuukauden korkokertoimien tulo, josta vähennetään 1**\n",
    ">\n",
    ">**Jos korkojakso on 1kk, niin** $i_{eff} = (1+i_{kk})^{12}-1 = (1+\\frac{i}{12})^{12}-1$     \n",
    ">\n",
    "       \n",
    ">Joissakin lainoissa korkojakso voi olla muu kuin vuosi tai kuukausi, esim. 1/2 v tai 3 kk.     \n",
    ">\n",
    ">**Yleinen  efektiivisen koron kaava on $i_{eff} = (1+\\frac{i}{n})^{n}-1$**, n on korkojakson määrä vuodessa.     \n",
    "                \n",
    "                \n",
    ">*Lain mukaan lainasopimuksissa on mainittava myös efektiivinen korko*"
   ]
  },
  {
   "cell_type": "markdown",
   "id": "2844ba23",
   "metadata": {},
   "source": [
    "### Esimerkki efektiivisen koron laskemisesta kaavalla ja calc-ohjelmalla"
   ]
  },
  {
   "cell_type": "markdown",
   "id": "ee87ca1d",
   "metadata": {},
   "source": [
    "```{admonition} Kulutusluoton nimelliskorko on 12%. Mikä on todellinen eli efektiivinen vuosikorko?\n",
    ":class: dropdown\n",
    "\n",
    "1. Lasketaan kuukausikorko:  $i_{kk}=12\\% / 12 = 1\\% = 0.01$     \n",
    "\n",
    "2. Lasketaan efektiivinen korko $i_{eff} = (1+i_{kk})^{12}-1 = (1+0.01)^{12}-1 = 1.01^{12}-1 = 0.127 = 12.68\\%$    \n",
    "        \n",
    "Tähänkin on olemassa taulukkolaskentaohjelmissa täsmäfunktio:       \n",
    "\n",
    "=KORKO.EFEKT(nimelliskorko;kausia_vuodessa)=KORKO.EFEKT(12%;12) joka antaa 12.68%\n",
    "\n",
    "```"
   ]
  },
  {
   "cell_type": "markdown",
   "id": "ef18e6f0",
   "metadata": {},
   "source": [
    "## Rahastosäästäminen tasaerinä"
   ]
  },
  {
   "cell_type": "markdown",
   "id": "a000eb17",
   "metadata": {},
   "source": [
    "Geometrista sarjaa käytetään myös laskettaessa tasaerinä tapahtuvan säästämisen loppusaldon laskemisessa. \n",
    "Olkoon p vakiona pysyvä kk-talletus, i = kuukausikorko r = 1 + i on vastaava korkotekijä ja n = jaksojen määrä.        \n",
    "\n",
    "Tällöin Loppusaldo $S = p\\cdot r^n + p\\cdot r^{n-1} + ....+ p\\cdot r^2 + p\\cdot r$ , missä korkotekijä **r = 1 + i**         \n",
    "\n",
    "Oikealta vasemmalle luettaessa huomataan, että tämä on geometrinen sarja, jonka 1. termi $a_1 = p\\cdot r$ ja suhdeluku $q = r$.   \n",
    "\n",
    "Sarjan summa on $a_1\\frac{1-q^n}{1-q}$ eli tässä tapauksessa S = $p\\cdot r\\frac{1-r^n}{1-r}$ = $p\\cdot (1+i)\\frac{1-(1+i)^n}{1-(1+i)} = p\\cdot (1+i)\\frac{(1+i)^n-1}{i}$    \n",
    "\n",
    "**Tasaeräsäästötilin loppusaldo  S =** $p\\cdot (1+i)\\frac{(1+i)^n-1}{i}$ "
   ]
  },
  {
   "cell_type": "markdown",
   "id": "ee0f2456",
   "metadata": {},
   "source": [
    "```{admonition} Esim. Tilille tallennetaan 5 vuoden ajan 50 euroa/kk. Nimelliskorko (per vuosi) = $3.0\\%$ eli kk-korko on $0.25\\%$. Mikä on tilin loppusaldo? \n",
    ":class: dropdown\n",
    "\n",
    "Sijoitetaan kaavaan S = $p\\cdot (1+i)\\frac{(1+i)^n-1}{i}$ p = 50, i = 0.0025, ja n = 60. Saadaan    \n",
    "\n",
    "$S = 50\\cdot 1.0025 \\frac{1.0025^{60}-1}{0.0025} = 3240.4$     \n",
    "\n",
    "Vastaus: 3240 euroa.\n",
    "\n",
    "```"
   ]
  },
  {
   "cell_type": "markdown",
   "id": "523f8f50",
   "metadata": {},
   "source": [
    "### Liite: Tasaerän laskukaavan johtaminen geometrisen sarjan summan kaavalla"
   ]
  },
  {
   "cell_type": "markdown",
   "id": "610b59fe",
   "metadata": {},
   "source": [
    "Esim. **Olkoon lainasumma k, erien määrä n, korkoprosentti i, ja korkokerroin 1 + i = r, p = laskettava maksuerä**.      \n",
    "\n",
    "Periaate: Maksujen arvojen summa lainan ottohetkeen muunnettuna = lainan määrä.     \n",
    "   \n",
    "$k = \\frac {p}{r} + \\frac {p}{r^2} + .... + \\frac {p}{r^n}$ => $k = p(\\frac {1}{r} + \\frac {1}{r^2} + .... + \\frac {1}{r^{n}})$ => $p = \\frac{k}{\\frac {1}{r} + \\frac {1}{r^2} + .... + \\frac {1}{r^{n}}}$  \n",
    "\n",
    "Nimittäjä on geometrinen jono, jossa on n termiä, 1. termi a ja suhdeluku q ovat $\\frac{1}{r}$.      \n",
    "Geometrisen jonon summakaavalla $S = a \\frac {1-q^n}{1-q}$ nimittäjä voidaan kirjoittaa muodossa $\\frac{1}{r} \\frac {1-\\frac{1}{r}^{n}}{1-\\frac{1}{r}} = \\frac {1-\\frac{1}{r}^{n}}{r-1}= \\frac {1-r^{-n}}{i}$.       \n",
    "\n",
    "Siten  $p = \\frac {k}{\\frac {1-r^{-n}}{i}} =\\frac {k\\cdot i}{1-r^{-n}} = \\frac {k\\cdot i}{1-(1+i)^{-n}} $                "
   ]
  }
 ],
 "metadata": {
  "jupytext": {
   "cell_metadata_filter": "-all",
   "notebook_metadata_filter": "-all",
   "text_representation": {
    "extension": ".md",
    "format_name": "markdown"
   }
  },
  "kernelspec": {
   "display_name": "Python 3 (ipykernel)",
   "language": "python",
   "name": "python3"
  },
  "language_info": {
   "codemirror_mode": {
    "name": "ipython",
    "version": 3
   },
   "file_extension": ".py",
   "mimetype": "text/x-python",
   "name": "python",
   "nbconvert_exporter": "python",
   "pygments_lexer": "ipython3",
   "version": "3.11.0"
  }
 },
 "nbformat": 4,
 "nbformat_minor": 5
}