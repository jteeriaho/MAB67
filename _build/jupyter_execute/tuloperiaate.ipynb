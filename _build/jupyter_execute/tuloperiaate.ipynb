{
 "cells": [
  {
   "cell_type": "markdown",
   "id": "58d5a3e4",
   "metadata": {},
   "source": [
    "# Tuloperiaate   "
   ]
  },
  {
   "cell_type": "markdown",
   "id": "c30486f7",
   "metadata": {},
   "source": [
    "       \n",
    "Tilasto-oppiin läheisesti liittyvä käsite on **todennäköisyys**.     \n",
    "\n",
    "Monet tilastomuuttujat, kuten esim. ihmisen pituus tai elinaika, tai vaikkapa metsikön puiden läpimitta, noudattavat jakaumaa, jota voidaan kuvata jollakin tunnetulla todennäköisyysjakaumalla. Yleisesti käytettyjä jakaumia ovat mm.  Gaussin normaalijakauma ja Weibull-jakauma. Todennäköisyysjakaumien käyttö tilastomuuttujan mallinnuksessa säästää tiedonkeruuta. Kun dataa on riittävästi mallin parametrien laskemiseen, voidaan siirtyä datan keruusta matemaattisen mallin avulla suoritettavaan laskentaan.  \n"
   ]
  },
  {
   "cell_type": "markdown",
   "id": "42ccff8a",
   "metadata": {},
   "source": [
    "## Todennäköisyyden määritelmä"
   ]
  },
  {
   "cell_type": "markdown",
   "id": "b4c79135",
   "metadata": {},
   "source": [
    "Todennäköisyys jaetaan usein kahteen tyyppiin: **klassinen todennäköisyys** ja **tilastollinen todennäköisyys** . Klassista todennäköisyyttä tarvitaan esim. kun lasketaan korttipelien erilaisten käsien todennäköisyyksiä tai nopanheiton tuloksia.  Tilastollista eli empiiristä todennäköisyyttä voi hyödyntää esim. vakioveikkauksessa tai vakuutusten hinnoittelussa."
   ]
  },
  {
   "cell_type": "markdown",
   "id": "1e1c9a40",
   "metadata": {},
   "source": [
    "```{admonition} **Klassinen todennäköisyys**\n",
    ":class: tip\n",
    "Nimitykset:     \n",
    "E = **tapahtuma-avaruus** eli *otosavaruus* , joka koostuu alkeistapauksista joiden tiedetään olevan yhtä todennäköisiä     \n",
    "A = **tapahtuma**, joka on E:n osajoukko, jonka todennäköisyys halutaan laskea\n",
    "\n",
    "Tapahtuman A todennäköisyys P(A) määritellään seuraavasti:      \n",
    "\n",
    "$P(A)=\\frac {k}{n}$       \n",
    "\n",
    "missä n = kaikkien mahdollisten alkeistapausten lukumäärä ja k = tapahtuman A kannalta suotuisten alkeistapausten lukumäärä\n",
    "\n",
    "```"
   ]
  },
  {
   "cell_type": "markdown",
   "id": "dca77bf2",
   "metadata": {},
   "source": [
    "```{admonition} Laatikossa on 8 palloa, joista 4 punaista, 3 sinistä ja 1 keltainen. Laatikosta otetaan umpimähkään 1 pallo. Millä todennäköisyydellä se on sininen?\n",
    ":class: dropdown\n",
    "Ratkaisu P(sininen)=$\\frac {3}{8}$        \n",
    "*(8 yhtä todennäköisestä alkeistapauksesta 3 on \"suotuisaa\" eli antaa sinisen pallon)*\n",
    "\n",
    "```"
   ]
  }
 ],
 "metadata": {
  "jupytext": {
   "cell_metadata_filter": "-all",
   "notebook_metadata_filter": "-all",
   "text_representation": {
    "extension": ".md",
    "format_name": "markdown"
   }
  },
  "kernelspec": {
   "display_name": "Python 3 (ipykernel)",
   "language": "python",
   "name": "python3"
  },
  "language_info": {
   "codemirror_mode": {
    "name": "ipython",
    "version": 3
   },
   "file_extension": ".py",
   "mimetype": "text/x-python",
   "name": "python",
   "nbconvert_exporter": "python",
   "pygments_lexer": "ipython3",
   "version": "3.11.0"
  }
 },
 "nbformat": 4,
 "nbformat_minor": 5
}