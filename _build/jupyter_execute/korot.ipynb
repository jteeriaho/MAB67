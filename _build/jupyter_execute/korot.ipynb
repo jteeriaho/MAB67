{
 "cells": [
  {
   "cell_type": "markdown",
   "id": "64e7986e",
   "metadata": {},
   "source": [
    "# Korko  "
   ]
  },
  {
   "cell_type": "markdown",
   "id": "01f76da9",
   "metadata": {},
   "source": [
    "## Mitä tarkoitetaan korolla?"
   ]
  },
  {
   "cell_type": "markdown",
   "id": "a3a94a53",
   "metadata": {},
   "source": [
    "```{admonition} Koron määritelmä\n",
    ":class: tip\n",
    "**Korko** on rahan lainaamisesta lainan antajalle maksettava korvaus.   \n",
    "\n",
    "```"
   ]
  },
  {
   "cell_type": "markdown",
   "id": "e1bcfa25",
   "metadata": {},
   "source": [
    "### Korkotyypit"
   ]
  },
  {
   "cell_type": "markdown",
   "id": "df697177",
   "metadata": {},
   "source": [
    ">**Yksinkertainen korko** on harvinaisempi korkotyypeistä. Sitä voidaan käyttää alle vuoden kestävien lainojen yhteydessä, mm. >viivästyskorkojen laskennassa, ja pikavipeissä joiden laina-aika on muutamia kuukausia    \n",
    "\n",
    ">**Koronkorko** on yleisin koron laskentatapa, jota käytetään asuntolainoissa, kulutusluotoissa, osamaksukaupoissa, ja >luottokorteissa.  (koronkorkoa käsitellään tarkemmin kurssissa MAB7)"
   ]
  },
  {
   "cell_type": "markdown",
   "id": "575fce58",
   "metadata": {},
   "source": [
    "### Yksinkertaisen korkolaskun kaavat ja kaavassa käytetyt symbolit"
   ]
  },
  {
   "cell_type": "markdown",
   "id": "76634ad8",
   "metadata": {},
   "source": [
    "**i = korkoprosentti** p.a (per annum = vuotta kohden).  Laskuissa des.lukuna: esim. 12% = 0.12        \n",
    "\n",
    "**t = laina-aika vuosina** ( esim. 2 kk => t = 2/12 v,   30 pv =>  t = 30/365 v)       \n",
    "\n",
    "**k = otettu lainamäärä**, alkupääoma      \n",
    "\n",
    "**I = maksettava korko**, joka lasketaan kaavalla $I = k i t$     \n",
    "\n",
    "**K = takaisin maksettava summa** = lainasumma + korko:   kaava  $K = k + I = k + k i t = k (1 + i t)$\n"
   ]
  },
  {
   "cell_type": "markdown",
   "id": "f1af4eaa",
   "metadata": {},
   "source": [
    "### Esimerkkejä"
   ]
  },
  {
   "cell_type": "markdown",
   "id": "33a8867f",
   "metadata": {},
   "source": [
    "```{admonition} Laske korko ja takaisin maksettava summa 2 kk:n pikalainasta, jonka korkoprosentti on 12 ja lainan määrä 500 euroa.\n",
    ":class: dropdown\n",
    "Korko = $I = k i t = 500\\cdot0.12\\frac{2}{12} = 10 $ euroa   \n",
    "Maksettava summa = k + I = 500 + 10 = 510 euroa\n",
    "```"
   ]
  },
  {
   "cell_type": "markdown",
   "id": "a3946b5f",
   "metadata": {},
   "source": [
    "```{admonition} Matti maksaa 400 euron kiinteistöveron 30 pv myöhässä. Viivästyskorko on 9 %. Verovelvollinen joutuu laskemaan itse maksettavan summan. Mikä se on tässä tapauksessa?\n",
    ":class: dropdown\n",
    "Viivästysorko = $I = k i t = 400\\cdot0.09\\frac{30}{365} = 2.96 $ euroa   \n",
    "Maksettava summa $K = k + I = 400 + 2.96 = 402.96 $ euroa\n",
    "```"
   ]
  },
  {
   "cell_type": "markdown",
   "id": "ebca189b",
   "metadata": {},
   "source": [
    "### Nykyarvon laskeminen eli diskonttaus"
   ]
  },
  {
   "cell_type": "markdown",
   "id": "9eec4c2f",
   "metadata": {},
   "source": [
    "Esim. panttilainaamoissa korko voidaan periä jo lainan antohetkellä etukäteen. Asiakas saa siten käteen lainasummaa pienemmän rahamäärän, joka on takaisin maksettavan lainasumman nykyarvo lainanantohetkellä. \n",
    "\n",
    ">Nykyarvo lasketaan ratkaisemalla k  kaavasta K = k (1 + i t) , jolloin saadaan        \n",
    "\n",
    ">Nykyarvo $k =\\frac{K}{1+i t}$ "
   ]
  },
  {
   "cell_type": "markdown",
   "id": "41b56873",
   "metadata": {},
   "source": [
    "```{admonition} Seija ottaa panttilainaamosta erästä maisemataulua vastaan 1000 euron lainan, jonka laina-aika on 3 kk ja korko 12 %.  Korko peritään laina-ajan alussa ja takaisin maksettava summa on tasan 1000 euroa 3kk kuluttua.\n",
    ":class: dropdown\n",
    "Seijan käteen saama summa $k = \\frac {K}{1+it}=\\frac {1000}{1+0.12\\frac{3}{12}} = 970.87$€       \n",
    "(etukäteen peritty korko on siten n. 29 euroa) \n",
    "\n",
    "Vastaus: 970.87$\n",
    "```"
   ]
  },
  {
   "cell_type": "markdown",
   "id": "13210ea9",
   "metadata": {},
   "source": [
    "### Kaavassa esiintyvän ajan t muuntaminen vuosiksi vaihtelee eri maissa"
   ]
  },
  {
   "cell_type": "markdown",
   "id": "626740a6",
   "metadata": {},
   "source": [
    "**Suomi, pohjoismaat, Englanti:**   $t = \\frac{kalenteripäivät}{365} $      \n",
    "\n",
    "**Saksa, Ranska:**   $t = \\frac{kalenteripäivät}{360} $     \n",
    "\n",
    "**Sveitsi:**   $t = \\frac{pv}{360} $, missä päiviä pv laskettaessa oletetaan, että jokaisessa kuussa on 30 päivää   "
   ]
  },
  {
   "cell_type": "markdown",
   "id": "ed391b1f",
   "metadata": {},
   "source": [
    "Esim. jos 1000 euron laina 12% korolla otetaan 1.2.2023 ja maksupäivä on 1.5.2023, niin \n",
    ">Suomessa korko olisi 1000*0.12*89/365 = 29.26 euroa,      \n",
    ">Ranskassa korko olisi 1000*0.12*89/360 = 29.67 euroa     \n",
    ">Sveitsissä 1000*0.12*90/360 = 30 euroa."
   ]
  }
 ],
 "metadata": {
  "jupytext": {
   "cell_metadata_filter": "-all",
   "notebook_metadata_filter": "-all",
   "text_representation": {
    "extension": ".md",
    "format_name": "markdown"
   }
  },
  "kernelspec": {
   "display_name": "Python 3 (ipykernel)",
   "language": "python",
   "name": "python3"
  },
  "language_info": {
   "codemirror_mode": {
    "name": "ipython",
    "version": 3
   },
   "file_extension": ".py",
   "mimetype": "text/x-python",
   "name": "python",
   "nbconvert_exporter": "python",
   "pygments_lexer": "ipython3",
   "version": "3.11.0"
  }
 },
 "nbformat": 4,
 "nbformat_minor": 5
}