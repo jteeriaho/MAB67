{
 "cells": [
  {
   "cell_type": "markdown",
   "id": "64e7986e",
   "metadata": {},
   "source": [
    "# Tehtäviä osaan MAB6"
   ]
  },
  {
   "cell_type": "markdown",
   "id": "e61dc2ab",
   "metadata": {},
   "source": [
    ">*Laske ensin kukin tehtävä itse, katso vasta sen jälkeen vastaus ja malliratkaisu*"
   ]
  },
  {
   "cell_type": "markdown",
   "id": "01f76da9",
   "metadata": {},
   "source": [
    "## Prosenttilaskut"
   ]
  },
  {
   "cell_type": "markdown",
   "id": "a3a94a53",
   "metadata": {},
   "source": [
    "````{admonition} 1.1 Puseron hinta oli 55 euroa. Alennusmyynnissä hintoja alennettiin 30%. Mikä oli alennuksen suuruus ja alennettu hinta?     \n",
    ":class: dropdown, tip\n",
    "Vastaus: Alennus oli 16.50, alennettu hinta 38.50.\n",
    "```{admonition} Ratkaisu: \n",
    ":class: dropdown\n",
    "Alennus: $ 0.3\\cdot 55 = 16.50$    \n",
    "Alennettu hinta: Tapa1: $55- 16.50 = 38.50$    \n",
    "Tapa2: $ 0.7\\cdot 55 = 38.50$\n",
    "```\n",
    "````"
   ]
  },
  {
   "cell_type": "markdown",
   "id": "b78a91ca",
   "metadata": {},
   "source": [
    "````{admonition} 1.2 Ruotsissa E10 bensiinin litrahinta on 1.74€, Suomessa 1.97€. Kuinka monta prosenttia Ruotsin hinta on pienempi kuin Suomen hinta? \n",
    ":class: dropdown, tip\n",
    "Vastaus: 11.7% pienempi\n",
    "```{admonition} Ratkaisu: \n",
    ":class: dropdown\n",
    "Tapa1: Hintaeroa verrataan Suomen hintaan: $ \\frac {1.97-1.74}{1.97}\\cdot 100\\% = 11.7\\%$    \n",
    "Tapa2: Lasketaan hintojen suhde $ \\frac {1.74}{1.97} = 0.883$, joka on 11.7% pienempi kuin 1\n",
    "```\n",
    "````"
   ]
  },
  {
   "cell_type": "markdown",
   "id": "3f58167f",
   "metadata": {},
   "source": [
    "````{admonition} 1.3 Sähkön hinta nousi 50% ja laski sen jälkeen 40%. Kuinka monta prosenttia hinta eroaa alkuperäisestä?\n",
    ":class: dropdown, tip\n",
    "Vastaus: Hinta on laskenut 10% alkuperäisestä\n",
    "```{admonition} Ratkaisu: \n",
    ":class: dropdown\n",
    "Lasku kannattaa suorittaa käyttämällä korkokertoimia 1.5, 0.6      \n",
    "Alkuperäinen hinta x on 1. muutoksen jälkeen 1.5x ja 2. muutoksen jälkeen (0.6*1.5) x = 0.9 x   \n",
    "Hinta on siten 90% alkuperäisestä eli laskenut 10 %\n",
    "```\n",
    "````"
   ]
  },
  {
   "cell_type": "markdown",
   "id": "da9afd17",
   "metadata": {},
   "source": [
    "````{admonition} 1.4  Ari sai 60 euron korotuksen kuukausipalkkaansa. Korotusprosentti oli 3.0%. Mikä oli Arin alkuperäinen palkka?\n",
    ":class: dropdown, tip\n",
    "Vastaus: Alkuperäinen palkka oli 2000 euroa/kk\n",
    "```{admonition} Ratkaisu: \n",
    ":class: dropdown\n",
    "Palkankorotuksen 60 suhde alkuperäiseen palkkaan x on 3:100    \n",
    "Saadaan verranto $\\frac{60}{x} = \\frac{3}{100}$, josta ristiin kertomalla saadaan \n",
    "3x=60*100 ,    \n",
    "josta x = 60*100/3 = 2000 \n",
    "```\n",
    "````"
   ]
  },
  {
   "cell_type": "markdown",
   "id": "02ea1d63",
   "metadata": {},
   "source": [
    "````{admonition} 1.5  Autotallin vuokra, joka on nyt 100 euroa kk:ssa, nousee 2.0% vuodessa. Mikä on vuokra 10v kuluttua? \n",
    ":class: dropdown, tip\n",
    "Vastaus: 121.9\n",
    "```{admonition} Ratkaisu: \n",
    ":class: dropdown\n",
    "Nousu 10 vuodessa ei ole 20% vaan enemmän, koska korotus lasketaan aina edellisestä tasosta.              \n",
    "Käyttämällä toistuvasti kerrointa 1.02, saadaan yhdistetty korkokerroin $1.02^{10} =1.219$      \n",
    "```\n",
    "````"
   ]
  },
  {
   "cell_type": "markdown",
   "id": "4fcde0c0",
   "metadata": {},
   "source": [
    "````{admonition} 1.6  Auton arvo laskee 20% vuodessa. Kuinka monta prosenttia se laskee 10 vuodessa?\n",
    ":class: dropdown, tip\n",
    "Vastaus: 89.3%\n",
    "```{admonition} Ratkaisu: \n",
    ":class: dropdown\n",
    "Korkokerroin, jolla seuraavan vuoden arvo saadaan edellisestä on 0.8.           \n",
    "Käyttämällä kerrointa 10 kertaa, saadaan yhdistetty korkokerroin $0.8^{10} = 0.107$      \n",
    "Arvosta on siten jäljellä 10.7% eli arvo on pudonnut 89.3% alkuperäisestä.\n",
    "```\n",
    "````"
   ]
  },
  {
   "cell_type": "markdown",
   "id": "e1bcfa25",
   "metadata": {},
   "source": [
    "## Verotus"
   ]
  },
  {
   "cell_type": "markdown",
   "id": "322859e5",
   "metadata": {},
   "source": [
    "````{admonition} 2.1 Maijan verokirjan perusprosentti on 20%, tuloraja 2100 eur/kk ja lisäprosentti 32%. Maija saa helmikuussa palkkaa 2430 euroa. Kuinka paljon häneltä peritään tuloveroa?\n",
    ":class: dropdown, tip\n",
    "Vastaus: 525.50 €\n",
    "```{admonition} Ratkaisu: \n",
    ":class: dropdown\n",
    "Tulo ylittää 2100 euron rajan, joten vero = 20 prosenttia 2100:sta + 32 prosenttia 2100:n ylittävästä osasta:    \n",
    "$vero = 0.2\\cdot 2100 + 0.32\\cdot (2430-2100) = 525.50$ \n",
    "```\n",
    "````"
   ]
  },
  {
   "cell_type": "markdown",
   "id": "9f329673",
   "metadata": {},
   "source": [
    "````{admonition} 2.2 Laske valtionvero 32000 euron vuosituloista \n",
    ":class: dropdown, tip\n",
    "Vastaus: 1502 €\n",
    "```{admonition} Ratkaisu: \n",
    ":class: dropdown\n",
    "Tulo kuuluu veroluokkaan 26400-43500 , jossa alarajavero on 536 ja marginaaliveroprosentti 17.5%    \n",
    "$vero = 536 + 0.1725*(32000-26400) = 1502$ \n",
    "```\n",
    "````"
   ]
  },
  {
   "cell_type": "markdown",
   "id": "8d06cb1f",
   "metadata": {},
   "source": [
    "![vvero](images/valtio.png)"
   ]
  },
  {
   "cell_type": "markdown",
   "id": "94a7ef6b",
   "metadata": {},
   "source": [
    "````{admonition} 2.3 Pesukoneen verollinen myyntihinta on 420 euroa. Laske ALV:n osuus ja veroton hinta.\n",
    ":class: dropdown, tip\n",
    "Vastaus: ALV = 81.29 €, veroton hinta 338.71 €\n",
    "```{admonition} Ratkaisu: \n",
    ":class: dropdown\n",
    "Pesukoneen ALV prosentti on 24% verottomasta hinnasta.     \n",
    "Verollisesta myyntihinnasta laskettaessa kannattaa käyttää kerroint 24/124      \n",
    "\n",
    "$ALV = 24/124\\cdot myyntihinta = 24/124\\cdot 420 = 81.29 $      \n",
    "\n",
    "$veroton hinta = 100/124\\cdot myyntihinta = 100/124\\cdot 420  = 338.71 $\n",
    "```\n",
    "````"
   ]
  },
  {
   "cell_type": "markdown",
   "id": "b14da531",
   "metadata": {},
   "source": [
    "````{admonition} 2.4 Tapio saa 4000 euron talletukselle 4.0 % vuotuisen koron, joka lisätään vuosittain pääomaan. Mikä on nettokorko verojen jälkeen? Mikä on talletuksen arvo 5 vuoden kuluttua?\n",
    ":class: dropdown, tip\n",
    "Vastaus: Nettokorko on 2.8%, talletuksen arvo lopussa on 4592 €\n",
    "```{admonition} Ratkaisu: \n",
    ":class: dropdown\n",
    "Koroista maksettava pääomavero on 30%, joten veroton korko on 0.70*4.0% = 2.8%. Korkokerroin on siten 1.028.     \n",
    "Talletuksen arvo 5 v kuluttua on $4000*1.028^5 = 4592$ €\n",
    "```\n",
    "````"
   ]
  },
  {
   "cell_type": "markdown",
   "id": "a809ba37",
   "metadata": {},
   "source": [
    "````{admonition} 2.5   Kuinka paljon lahjan saaja säästää veroissa, jos 60000 euron kertalahjoituksen sijasta lahjoitettaisiin 20000 euroa kolmena vuonna peräkkäin?\n",
    ":class: dropdown, tip\n",
    "Vastaus: verosäästö on 4000 €\n",
    "```{admonition} Ratkaisu: \n",
    ":class: dropdown\n",
    "60000 € kertalahjan vero on 11400 + 0.29 (60000-55000) = 12850\n",
    "20000 € lahjasta vero on 100 + 0.19 (20000-5000) = 2950 joka kerrottuna kolmella on 8850     \n",
    "Lahjan jakamisella osiin säästyy 4000 euroa.\n",
    "```\n",
    "````"
   ]
  },
  {
   "cell_type": "markdown",
   "id": "93b6836f",
   "metadata": {},
   "source": [
    "![lvero](images/lahja.png)"
   ]
  },
  {
   "cell_type": "markdown",
   "id": "575fce58",
   "metadata": {},
   "source": [
    "## Indeksit "
   ]
  },
  {
   "cell_type": "markdown",
   "id": "69006a1a",
   "metadata": {},
   "source": [
    "Kuvassa on elinkustannus- ja ansiotasoindeksit tammikuusta 2020 tammikuuhun 2023      \n",
    "\n",
    "![ind](images/indeksit.png)"
   ]
  },
  {
   "cell_type": "markdown",
   "id": "9d27a75c",
   "metadata": {},
   "source": [
    "````{admonition} 3.1 Kuinka monta prosenttia elinkustannukset nousivat tammikuusta 21 tammikuuhun 23? Kuinka monta prosenttia nousivat palkkatulot samalla aikavälillä?\n",
    ":class: dropdown, tip\n",
    "Vastaus: Elinkustannukset nousivat 13.3% , ansiot 5.5%\n",
    "```{admonition} Ratkaisu: \n",
    ":class: dropdown\n",
    "Elinkustannusindeksien suhde on 2249/1985 = 1.133, mikä tarkoittaa 13.3% nousua *(1+13.3/100 = 1.133)*        \n",
    "Ansioindeksien suhde on 3542/3356 = 1.0554, eli ansiot ovat nousseet 5.5 %\n",
    "```\n",
    "````"
   ]
  },
  {
   "cell_type": "markdown",
   "id": "c71146c8",
   "metadata": {},
   "source": [
    "````{admonition} 3.2 Oletaan, että ansiot nousevat 5.5% ja elinkustannukset 13.3%. Montako prosenttia laskee rahan arvo? Montako prosenttia laskevat reaaliansiot?\n",
    ":class: dropdown, tip\n",
    "Vastaus: Rahan arvo alenee 11.7%, reaaliansiot alenevat 6.9% \n",
    "```{admonition} Ratkaisu: \n",
    ":class: dropdown     \n",
    "Rahan arvolla tarkoitetaan käytössä olevan rahamäärän suhdetta hintoihin.    \n",
    "Jos rahan arvon on aluksi a, niin hintojen noustua 13.3% se on a/1.133 = 0.883 a eli 11.7% pienempi.       \n",
    "Reaaliansioiden korkokerroin on palkkojen korkokerroin/hintojen korkokerroin = 1.055/1.133 = 0.931 ,    \n",
    "joka tarkoittaa 6.9 % laskua.      \n",
    "*(korkokerroin 1 + p/100 = 0.931 => p/100 = 0.931-1 = 0.069 => p = 6.9%)*\n",
    "```\n",
    "````  "
   ]
  },
  {
   "cell_type": "markdown",
   "id": "73533b60",
   "metadata": {},
   "source": [
    "````{admonition} Sarja (1.42, 1.60, 1.77, 2.23, 2.05) kuvaa bensan keskihintoja vuosina 2018-2022. Muodosta niistä indeksisarja perusvuotena 2018. Mikä on viimeisen vuoden 2022 indeksiluku? \n",
    ":class: dropdown, tip\n",
    "Vastaus: Vuoden 2022 indeksi on 114.4 (koko sarja on 100, 112.7, 124.6 , 157.2 , 144.4)\n",
    "```{admonition} Ratkaisu: \n",
    ":class: dropdown     \n",
    "v.2022 indeksi lasketaan seuraavasti:  2.05/1.42*100 = 144.4\n",
    "```\n",
    "```` "
   ]
  },
  {
   "cell_type": "markdown",
   "id": "ebfa3043",
   "metadata": {},
   "source": [
    "## Valuutat"
   ]
  },
  {
   "cell_type": "markdown",
   "id": "252fe0e7",
   "metadata": {},
   "source": [
    "![kurssit](images/valuutat.png)"
   ]
  },
  {
   "cell_type": "markdown",
   "id": "b5e95a90",
   "metadata": {},
   "source": [
    "````{admonition} 4.1  Olet menossa Japaniin ja ostat Nordea-pankista 100 000 jeniä matkavaluuttaa. Paljonko joudut maksamaan euroina?\n",
    ":class: dropdown, tip\n",
    "Vastaus: 680.45 €\n",
    "```{admonition} Ratkaisu: \n",
    ":class: dropdown\n",
    "Pankki myy Japanin valuuttaa, eli on käytettävä Jenin myyntikurssia 146.96.  \n",
    "Maksu euroina on 100000/146.96 = 680.45 €   \n",
    "(voi ajatella myös verrantona:  $\\frac{x}{100000}=\\frac{1}{146.96}$)\n",
    "```\n",
    "````"
   ]
  },
  {
   "cell_type": "markdown",
   "id": "63fd0b3c",
   "metadata": {},
   "source": [
    "````{admonition} 4.2  Vaihdat Ruotsinlaivalla 500 euroa kruunuiksi. Montako kruunua saat? Käytä Nordean kursseja. \n",
    ":class: dropdown, tip\n",
    "Vastaus: 680.45 €\n",
    "```{admonition} Ratkaisu: \n",
    ":class: dropdown\n",
    "Valuuttapiste myy Ruotsin kruunuja, eli on käytettävä myyntikurssia 11.358.  \n",
    "1 euro = 11.358 SEK =>  500 euroa = 500*11.358 SEK = 5679 SEK\n",
    " \n",
    "```\n",
    "````"
   ]
  },
  {
   "cell_type": "markdown",
   "id": "2edaea96",
   "metadata": {},
   "source": [
    "````{admonition} 4.3 Lontoossa opiskeleva Mari maksaa kesällä 300 GBP:n vuokran suomalaiselta pankkitililtä. Montako euroa hänen pitää maksaa?\n",
    ":class: dropdown, tip\n",
    "Vastaus: 355.54 €\n",
    "```{admonition} Ratkaisu: \n",
    ":class: dropdown\n",
    "Pankki myy puntia, eli on käytettävä punnan myyntikurssia 0.8438.  \n",
    "Maksu euroina on $300/0.8438 = 355.54 $ €\n",
    " \n",
    "```\n",
    "````"
   ]
  },
  {
   "cell_type": "markdown",
   "id": "064ec8ed",
   "metadata": {},
   "source": [
    "````{admonition} 4.4 Hannulle jää kalareissulta 600 NOK käyttämättä ja hän vaihtaa ne Rovaniemellä euroiksi. Paljonko hän saa?\n",
    ":class: dropdown, tip\n",
    "Vastaus: 49.90 €\n",
    "```{admonition} Ratkaisu: \n",
    ":class: dropdown\n",
    "Pankki ostaa Norjan kruunuja ja käyttää ostokurssia 12.025.  \n",
    "Hannu saa kruunuista $600/12.025 = 49.90 $ €\n",
    " \n",
    "```"
   ]
  },
  {
   "cell_type": "markdown",
   "id": "b3f051d9",
   "metadata": {},
   "source": [
    "## Korko (lyhyet alle vuoden lainat)"
   ]
  },
  {
   "cell_type": "markdown",
   "id": "ffdc5c86",
   "metadata": {},
   "source": [
    "````{admonition} 5.1  Satu ottaa 400 euron pikavipin, jonka laina-aika on 90 vrk ja korko 12%? Mikä on eräpäivänä takaisin maksettava summa?\n",
    ":class: dropdown, tip\n",
    "Vastaus: 411.84\n",
    "```{admonition} Ratkaisu: \n",
    ":class: dropdown\n",
    "Yksinkertaisen korkolaskun kaava K = k (1 + i t) , missä      \n",
    "lainamäärä k = 400, korko i = 0.12 ja aika t = 90/365.     \n",
    "Takaisin maksettava summa $K = 400 (1 + 0.12\\cdot 90/365) = 411.84$\n",
    "```\n",
    "````"
   ]
  },
  {
   "cell_type": "markdown",
   "id": "6b0535f7",
   "metadata": {},
   "source": [
    "````{admonition} 5.2 Panttilainaamo antaa Samille lainan, jonka laina-aika on 4 kk, korko 12%. Tässä lainassa takaisinmaksettava summa on 300 euroa. Korko maksetaan etukäteen lainanottohetkellä. Paljonko Sami saa käteen? \n",
    ":class: dropdown, tip\n",
    "Vastaus: 288.46\n",
    "```{admonition} Ratkaisu: \n",
    ":class: dropdown\n",
    "Kaavasta K = k (1 + i t) ratkaistaan summan K = 300 nykyarvo k muodossa k = K/(1 + i t)      \n",
    "Sami saa käteen summan $k = 300 / (1 + 0.12\\cdot 4/12) = 288.46$\n",
    "```\n",
    "````"
   ]
  }
 ],
 "metadata": {
  "jupytext": {
   "cell_metadata_filter": "-all",
   "notebook_metadata_filter": "-all",
   "text_representation": {
    "extension": ".md",
    "format_name": "markdown"
   }
  },
  "kernelspec": {
   "display_name": "Python 3 (ipykernel)",
   "language": "python",
   "name": "python3"
  },
  "language_info": {
   "codemirror_mode": {
    "name": "ipython",
    "version": 3
   },
   "file_extension": ".py",
   "mimetype": "text/x-python",
   "name": "python",
   "nbconvert_exporter": "python",
   "pygments_lexer": "ipython3",
   "version": "3.11.0"
  }
 },
 "nbformat": 4,
 "nbformat_minor": 5
}