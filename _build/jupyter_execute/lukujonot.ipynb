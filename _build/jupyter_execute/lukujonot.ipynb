{
 "cells": [
  {
   "cell_type": "markdown",
   "id": "64e7986e",
   "metadata": {},
   "source": [
    "# Lukujonot"
   ]
  },
  {
   "cell_type": "markdown",
   "id": "01f76da9",
   "metadata": {},
   "source": [
    "## Lukujonon määritelmä"
   ]
  },
  {
   "cell_type": "markdown",
   "id": "a3a94a53",
   "metadata": {},
   "source": [
    "```{admonition} Lukujonon määritelmä\n",
    ":class: tip\n",
    "**Lukujonolla** tarkoitetaan järjestettyä jonoa lukuja.\n",
    "Esim. (1,3,2,5,6) ja (1.5, 3.5, 6.5, 8.5, 9.2) ovat lukujonoja   \n",
    "\n",
    "```"
   ]
  },
  {
   "cell_type": "markdown",
   "id": "e1bcfa25",
   "metadata": {},
   "source": [
    "### Aritmeettinen jono"
   ]
  },
  {
   "cell_type": "markdown",
   "id": "df697177",
   "metadata": {},
   "source": [
    "**Aritmeettinen jono** on lukujono, jossa perättäisten termien erotus on vakio.\n",
    "\n",
    ">esim.  (1,5,9,13,17,21)  on aritmeettinen jono, jossa perättäisten termien erotus on 4 "
   ]
  },
  {
   "cell_type": "markdown",
   "id": "43ef5997",
   "metadata": {},
   "source": [
    "```{admonition} Yleiskaava aritmeettisen jonon n:nen alkion laskemiseksi\n",
    ":class: tip\n",
    "Olkoon jonon 1. termi $a_1$, n:s termi $a_n$ ja perättäisten termien erotus d. Tällöin      \n",
    "     \n",
    "$a_{n} = a_1 + (n-1)\\cdot d$\n",
    "```  \n"
   ]
  },
  {
   "cell_type": "markdown",
   "id": "4bb0b03d",
   "metadata": {},
   "source": [
    "```{admonition} Esim. Mikä on jonon (1,5,9,...) kymmenes luku?\n",
    ":class: dropdown\n",
    "Sijoitetaan yo. kaavaan $a_1=1, d = 4$ ja $n = 10$    \n",
    "\n",
    "=>   $a_{10} = 1 + (10-1)\\cdot 4 =  37$\n",
    "```"
   ]
  },
  {
   "cell_type": "markdown",
   "id": "575fce58",
   "metadata": {},
   "source": [
    "### Aritmeettisen jonon termien summan laskeminen  "
   ]
  },
  {
   "cell_type": "markdown",
   "id": "175a9724",
   "metadata": {},
   "source": [
    "Esim. Jonon (1,5,9,13,17,21) lukujen summa voidaan laskea korvaamalla luvut 1. ja viimeisen luvun keskiarvolla.      \n",
    "1  + 5  + 9  + 13 + 17 + 21   =         \n",
    "11 + 11 + 11 + 11 + 11 + 11   = 6*11 = 66        \n",
    "\n",
    "**Luku 11 on lukujen 1 ja 21 keskiarvo. Kun jokainen luku korvataan sillä summa pysyy samana**"
   ]
  },
  {
   "cell_type": "markdown",
   "id": "d25d84b7",
   "metadata": {},
   "source": [
    "```{admonition} Aritmeettisen jonon alkioiden summan kaava\n",
    ":class: tip\n",
    "Aritmeettisen jonon lukujen summa = lukujen lukumäärä * ensimmäisen ja viimeisen luvun keskiarvo       \n",
    "     \n",
    "$S_{n} = n\\frac{a_1+a_n}{2}$\n",
    "```  \n"
   ]
  },
  {
   "cell_type": "markdown",
   "id": "33a8867f",
   "metadata": {},
   "source": [
    "```{admonition} Laske summa 1 + 5 + 9 + .... + 1005\n",
    ":class: dropdown\n",
    "Kyseessä on aritmeettinen jono, jossa 1. ja viimeinen termi ovat $a_1=1, a_n=1005$, erotus d = 4.        \n",
    "Summan laskemiseen tarvitaan vielä tieto termien lukumäärästä n.       \n",
    "Ratkaistaan n kaavasta $a_{n} = a_1 + (n-1)\\cdot d$       \n",
    "=> 1005 = 1 + (n-1)*4 => 1004 = (n-1)*4 =>  n-1 = 1004/4 = 251 => n = 254        \n",
    "\n",
    "Nyt summa voidaan laskea \n",
    "$S_{n} = n\\frac{a_1+a_n}{2} $ => $S_{254} = 254\\frac{1+1005}{2} = 126756$  \n",
    "\n",
    "Vastaus: 126756\n",
    "```"
   ]
  },
  {
   "cell_type": "markdown",
   "id": "22613cb9",
   "metadata": {},
   "source": [
    "```{admonition} Aritmeettisen jonon 3. termi on 12 ja 8. termi -3. Määritä jono kokonaisuudessaan,kun siinä on 10 termiä.\n",
    ":class: dropdown\n",
    "Sijoittamalla kaavaan $a_{n} = a_1 + (n-1)\\cdot d$ annetut tiedot, saadaan yhtälöt    \n",
    "$12 = a_1 + (3-1)d = a_1 + 2d$      \n",
    "$-3 = a_1 + (8-1)d = a_1 + 7d$         \n",
    "Vähentämällä yhtälöt puolittain, saadaan   \n",
    "$12-(-3) = (2-7)d$  eli  $15 = -5)d$, josta d = -15/-5 = -3. Sijoitus  1. yhtälöön antaa\n",
    "\n",
    "$12 = = a_1 + 2*(-3) = a_1 - 6d$, josta $a_1 = 12 + 6 = 18$       \n",
    "\n",
    "Vastaus: Koko jono on (18,15,12,9,6,3,0,-3,-6,-9)\n",
    "```"
   ]
  },
  {
   "cell_type": "markdown",
   "id": "0b23cd8a",
   "metadata": {},
   "source": [
    "```{admonition} 100000 euron tasalyhennyslainan laina-aika on 10 vuotta, ja nimelliskorko 6% p.a. Lyhennys ja korko maksetaan puolivuosittain. Laske koko laina-aikana maksettujen korkojen summa.   \n",
    ":class: dropdown\n",
    "Eriä on 20 kpl, joten lyhennys on 100000/20 = 5000 euroa. Puolen vuoden korko on 3%, joten 1. korko on 3%*100000 = 3000 euroa, seuraava 3%*95000 = 2850 euroa, viimeinen korko on 3%*5000 = 150 euroa.     \n",
    "Korot muodostavat aritmeettisen sarjan jossa 1. termi $a_1 = 3000$ ja erotus $d = -150$.      \n",
    "Maksettavien korkojen summa saadaan aritmeettisen sarjan summakaavalla:     \n",
    "\n",
    "$S = n\\frac{a_1+a_n}{2} = 20\\frac{3000+150}{2} = 31500$      \n",
    "\n",
    "Vastaus: 31500 euroa"
   ]
  },
  {
   "cell_type": "markdown",
   "id": "ebfa3043",
   "metadata": {},
   "source": [
    "## Geometrinen jono"
   ]
  },
  {
   "cell_type": "markdown",
   "id": "ed391b1f",
   "metadata": {},
   "source": [
    "**Geometrinen jono on lukujono $(a_1,a_1 q,a_1 q^2,...,a_1 q^{n-1})$, jossa perättäisten termien suhde on vakio**\n",
    "\n",
    ">esim1.  (1,1/2,1/4,1/8,1/16)  on geometrinen jono, jossa perättäisten termien suhde on 1/2. Ts. kukin termi saadaan edellisestä termistä kertomalla vakiolla 1/2.     \n",
    "\n",
    ">esim2. (1,3,9,27,81) on geometrinen jono, jossa suhdeluku on 3."
   ]
  },
  {
   "cell_type": "markdown",
   "id": "05ce1e9b",
   "metadata": {},
   "source": [
    "```{admonition} Kaava geometrisen jonon n:nnen termin laskemiselle\n",
    ":class: tip\n",
    "Merkitään 1. termiä $a_1$ ja perättäisten termien suhdelukua $q$. \n",
    "Tällöin yleiskaava n:nnen termin laskemiselle on    \n",
    "\n",
    "$a_n = a_1 q^{n-1}$ \n",
    "```"
   ]
  },
  {
   "cell_type": "markdown",
   "id": "b3f051d9",
   "metadata": {},
   "source": [
    "### Geometrisen jonon lukujen summan laskukaava"
   ]
  },
  {
   "cell_type": "markdown",
   "id": "14c0c498",
   "metadata": {},
   "source": [
    "Summakaava perustuu taulukkokirjan kaavaan $\\frac{1-x^n}{1-x}= 1 + x + x^2 + .... + x^{n-1}$"
   ]
  },
  {
   "cell_type": "markdown",
   "id": "5a4efb9c",
   "metadata": {},
   "source": [
    "```{admonition} Kaava geometrisen jonon summalle\n",
    ":class: tip\n",
    "Merkitään 1. termiä $a_1$ ja perättäisten termien suhdelukua $q$. \n",
    "Jonon alkioiden summa $S_n = a_1+a_1 q+a_1 q^2+...+a_1 q^{n-1})$ on tällöin      \n",
    "\n",
    "\n",
    "$S_n = a_1\\frac{1-q^n}{1-q}$   ( rajoitus $q\\neq 1$)\n",
    "```"
   ]
  },
  {
   "cell_type": "markdown",
   "id": "1a316e0b",
   "metadata": {},
   "source": [
    "```{admonition} Mikä on jonon (1,3,9,27,81) alkioiden summa?\n",
    ":class: dropdown\n",
    "Kyseessä on geometrinen jono, jossa $a_1=1$,$n=5$ ja suhdeluku $q=3$     \n",
    "\n",
    "Summa on $1\\frac{1-3^5}{1-3}$ = (1- 243)/-2 = -242/-2 = $121$\n",
    "\n",
    "```"
   ]
  },
  {
   "cell_type": "markdown",
   "id": "2cc07468",
   "metadata": {},
   "source": [
    "```{admonition} Mikä on jonon (2,1,1/2,1/4,1/8,1/16) alkioiden summa?\n",
    ":class: dropdown\n",
    "Kyseessä on geometrinen jono, jossa $a_1=2$,$n=6$, ja suhdeluku $q=1/2$     \n",
    "\n",
    "Summa on $2\\frac{1-(1/2)^5}{1-1/2}$ =  $63/16$     \n",
    "\n",
    "*(tulos saatu laskimella syötteellä 2*(1-(1/2)^6)/(1-1/2))*\n",
    "\n",
    "```"
   ]
  },
  {
   "cell_type": "markdown",
   "id": "de862a06",
   "metadata": {},
   "source": [
    "```{admonition} Lapsenlapsen syntyessä mumm0 päättää tallettaa 10 euroa kk tilille, jonka kk-korko on 0.5%, tarkoituksena luovuttaa kertynyt summa, kun lapsenlapsi täyttää 20 vuotta. Kuinka paljon rahaa on kertynyt? \n",
    ":class: dropdown      \n",
    "0.5% korkoa vastaava korkokerroin on 1 + 0.5/100 = 1.005.     \n",
    "\n",
    "1. sataselle korkoa maksetaan 240 kertaa, joten sen loppuarvo on $10\\cdot 1.005^{240}$.   \n",
    "2. sataselle korkoa maksetaan 239 kertaa, joten sen loppuarvo on $10\\cdot 1.005^{239}$ \n",
    "...        \n",
    "Viimeiselle maksetaan vain 1 kk korko, joten sen loppuarvo on $10\\cdot 1.005$\n",
    "\n",
    "Tilin loppusaldo on  $10\\cdot 1.005 +  10\\cdot 1.005^2 +...+ 10\\cdot 1.005^{240}$. \n",
    "\n",
    "Kyseessä on geometrinen sarja, jossa suhdeluku q = 1.005 ja 1. termi 10*1.005 = 10.05.       \n",
    "\n",
    "Summakaava $S_n = a_1\\frac{1-q^n}{1-q}$ antaa $S_n = 10.5\\frac{1-1.005^240}{1-1.005} = 4644 $     \n",
    "\n",
    "Vastaus: 4644 euroa.\n",
    "```"
   ]
  },
  {
   "cell_type": "markdown",
   "id": "a4c20850",
   "metadata": {},
   "source": [
    ">Huom! Seuraavassa luvussa *pitkäaikaisista lainoista* esitetään kaava tasaerälainan lyhennyksen laskemiselle.  Kaava perustuu geometrisen sarjan summan kaavaan. Myös yo. kuukausisäästämiselle esitetään yleinen laskukaava."
   ]
  }
 ],
 "metadata": {
  "jupytext": {
   "cell_metadata_filter": "-all",
   "notebook_metadata_filter": "-all",
   "text_representation": {
    "extension": ".md",
    "format_name": "markdown"
   }
  },
  "kernelspec": {
   "display_name": "Python 3 (ipykernel)",
   "language": "python",
   "name": "python3"
  },
  "language_info": {
   "codemirror_mode": {
    "name": "ipython",
    "version": 3
   },
   "file_extension": ".py",
   "mimetype": "text/x-python",
   "name": "python",
   "nbconvert_exporter": "python",
   "pygments_lexer": "ipython3",
   "version": "3.11.0"
  }
 },
 "nbformat": 4,
 "nbformat_minor": 5
}