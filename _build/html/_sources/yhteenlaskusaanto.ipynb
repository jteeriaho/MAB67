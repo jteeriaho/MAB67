{
 "cells": [
  {
   "cell_type": "markdown",
   "id": "58d5a3e4",
   "metadata": {},
   "source": [
    "# Yhteenlaskusääntö  "
   ]
  },
  {
   "cell_type": "markdown",
   "id": "c30486f7",
   "metadata": {},
   "source": [
    "       \n",
    "Regressioanalyysissä tutkitaan yhden tai useamman selittävän muuttujan vaikutusta selitettävään muuttujaan.     \n",
    "\n",
    "Analyysin tuloksena saadaan matemaattinen malli $y = f(x_1,..., x_n)$, missä y on ns. **selitettävä muuttuja** *(dependent variable)* ja $x_1,....,x_n$  ovat ns. **selittäviä muuttujia** *(independent variables)*.   \n",
    "\n",
    "Yleisimmässä, ns. **lineaarisessa regressiomallissa**  pyritään löytämään lineaarinen funktio   \n",
    "$y = b_0 + b_1 x_1 +....+ b_n x_n$ , joka kuvaa muuttujan y riippuvuutta selittävistä muuttujista $x_i$.   \n",
    "\n",
    "Lineaariseen regressioanalyysiin tarvittavat funktiot löytyvät hyvistä laskimista, sekä Excelistä."
   ]
  }
 ],
 "metadata": {
  "jupytext": {
   "cell_metadata_filter": "-all",
   "notebook_metadata_filter": "-all",
   "text_representation": {
    "extension": ".md",
    "format_name": "markdown"
   }
  },
  "kernelspec": {
   "display_name": "Python 3 (ipykernel)",
   "language": "python",
   "name": "python3"
  },
  "language_info": {
   "codemirror_mode": {
    "name": "ipython",
    "version": 3
   },
   "file_extension": ".py",
   "mimetype": "text/x-python",
   "name": "python",
   "nbconvert_exporter": "python",
   "pygments_lexer": "ipython3",
   "version": "3.9.13"
  }
 },
 "nbformat": 4,
 "nbformat_minor": 5
}
