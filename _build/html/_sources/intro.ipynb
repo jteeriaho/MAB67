{
 "cells": [
  {
   "cell_type": "markdown",
   "id": "090d0208",
   "metadata": {},
   "source": [
    "# Sisällysluettelo\n",
    "\n",
    "**Kaupallisen matematiikan perusteita (MAB6):**     \n",
    "Prosenttilaskenta,verotus, indeksit, rahan arvo, valuutat, korot, tehtäviä   \n",
    "\n",
    "**Kaupallisen matematiikan jatko-osa (MAB7)**         \n",
    "Aritmeettinen ja geometrinen jono. Koronkorkolaskut. Pitkät lainat, tehtäviä \n",
    "\n",
    "\n"
   ]
  }
 ],
 "metadata": {
  "kernelspec": {
   "display_name": "Python 3 (ipykernel)",
   "language": "python",
   "name": "python3"
  },
  "language_info": {
   "codemirror_mode": {
    "name": "ipython",
    "version": 3
   },
   "file_extension": ".py",
   "mimetype": "text/x-python",
   "name": "python",
   "nbconvert_exporter": "python",
   "pygments_lexer": "ipython3",
   "version": "3.9.13"
  }
 },
 "nbformat": 4,
 "nbformat_minor": 5
}
